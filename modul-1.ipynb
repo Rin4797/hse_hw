{
 "cells": [
  {
   "cell_type": "markdown",
   "id": "308270c6",
   "metadata": {},
   "source": [
    "# Модульная-1"
   ]
  },
  {
   "cell_type": "markdown",
   "id": "84e55e60",
   "metadata": {},
   "source": [
    "## 1. *Сформулировать содержательно задачу исследования. Пояснить, как методы регрессионного анализа помогут ее решить (зависимая переменная в модели регрессии должна быть непрерывной величиной). Подобрать данные пространственной выборки для проведения регрессионного анализа. Ограничения: от 5 объясняющих переменных (из них допускается не более 20% бинарных переменных, все прочие - непрерывные), объем выборки от 100 объектов. (1 балл)*"
   ]
  },
  {
   "cell_type": "markdown",
   "id": "f66b0874",
   "metadata": {},
   "source": [
    "Возьмем данные с сайта kaggle по адресу: https://www.kaggle.com/datasets/shivam2503/diamonds. Это датасет о 53940 бриллиантах по 10 признакми: цена (в US долларах), карат, качество среза, цвет, прозрачность, параметры формы (x, y, z измеренияв мм), глубина (в процентах, рассчитывается из параметров формы), размер площадки (отношение ширины площвдки к диаметру в процентах). Более подробно эти параметры описаны на изображении:\n",
    "\n",
    "![параметры бриллианта](./parametri_brillianta.png)\n",
    "\n",
    "Цвет, качество среза и прозрачность тоже переведем в численные значения, фактически, в изначальных данных у нас и так парктически численная оценка, но записанная словами."
   ]
  },
  {
   "cell_type": "code",
   "execution_count": 1,
   "id": "ce9fd372",
   "metadata": {},
   "outputs": [],
   "source": [
    "import pandas as pd\n",
    "import numpy as np\n",
    "import matplotlib.pyplot as plt\n",
    "import seaborn as sns"
   ]
  },
  {
   "cell_type": "code",
   "execution_count": 2,
   "id": "1b6fe531",
   "metadata": {},
   "outputs": [],
   "source": [
    "df = pd.read_csv('./diamonds.csv', index_col=0)"
   ]
  },
  {
   "cell_type": "code",
   "execution_count": 3,
   "id": "5087770e",
   "metadata": {},
   "outputs": [],
   "source": [
    "#удалим пропуски значений\n",
    "\n",
    "df.dropna(inplace=True)"
   ]
  },
  {
   "cell_type": "code",
   "execution_count": 4,
   "id": "77c4730a",
   "metadata": {},
   "outputs": [
    {
     "data": {
      "text/plain": [
       "carat      float64\n",
       "cut         object\n",
       "color       object\n",
       "clarity     object\n",
       "depth      float64\n",
       "table      float64\n",
       "price        int64\n",
       "x          float64\n",
       "y          float64\n",
       "z          float64\n",
       "dtype: object"
      ]
     },
     "execution_count": 4,
     "metadata": {},
     "output_type": "execute_result"
    }
   ],
   "source": [
    "df.dtypes"
   ]
  },
  {
   "cell_type": "code",
   "execution_count": 5,
   "id": "3f37826b",
   "metadata": {
    "scrolled": true
   },
   "outputs": [
    {
     "data": {
      "text/html": [
       "<div>\n",
       "<style scoped>\n",
       "    .dataframe tbody tr th:only-of-type {\n",
       "        vertical-align: middle;\n",
       "    }\n",
       "\n",
       "    .dataframe tbody tr th {\n",
       "        vertical-align: top;\n",
       "    }\n",
       "\n",
       "    .dataframe thead th {\n",
       "        text-align: right;\n",
       "    }\n",
       "</style>\n",
       "<table border=\"1\" class=\"dataframe\">\n",
       "  <thead>\n",
       "    <tr style=\"text-align: right;\">\n",
       "      <th></th>\n",
       "      <th>carat</th>\n",
       "      <th>cut</th>\n",
       "      <th>color</th>\n",
       "      <th>clarity</th>\n",
       "      <th>depth</th>\n",
       "      <th>table</th>\n",
       "      <th>price</th>\n",
       "      <th>x</th>\n",
       "      <th>y</th>\n",
       "      <th>z</th>\n",
       "    </tr>\n",
       "  </thead>\n",
       "  <tbody>\n",
       "    <tr>\n",
       "      <th>1</th>\n",
       "      <td>0.23</td>\n",
       "      <td>Ideal</td>\n",
       "      <td>E</td>\n",
       "      <td>SI2</td>\n",
       "      <td>61.5</td>\n",
       "      <td>55.0</td>\n",
       "      <td>326</td>\n",
       "      <td>3.95</td>\n",
       "      <td>3.98</td>\n",
       "      <td>2.43</td>\n",
       "    </tr>\n",
       "    <tr>\n",
       "      <th>2</th>\n",
       "      <td>0.21</td>\n",
       "      <td>Premium</td>\n",
       "      <td>E</td>\n",
       "      <td>SI1</td>\n",
       "      <td>59.8</td>\n",
       "      <td>61.0</td>\n",
       "      <td>326</td>\n",
       "      <td>3.89</td>\n",
       "      <td>3.84</td>\n",
       "      <td>2.31</td>\n",
       "    </tr>\n",
       "    <tr>\n",
       "      <th>3</th>\n",
       "      <td>0.23</td>\n",
       "      <td>Good</td>\n",
       "      <td>E</td>\n",
       "      <td>VS1</td>\n",
       "      <td>56.9</td>\n",
       "      <td>65.0</td>\n",
       "      <td>327</td>\n",
       "      <td>4.05</td>\n",
       "      <td>4.07</td>\n",
       "      <td>2.31</td>\n",
       "    </tr>\n",
       "    <tr>\n",
       "      <th>4</th>\n",
       "      <td>0.29</td>\n",
       "      <td>Premium</td>\n",
       "      <td>I</td>\n",
       "      <td>VS2</td>\n",
       "      <td>62.4</td>\n",
       "      <td>58.0</td>\n",
       "      <td>334</td>\n",
       "      <td>4.20</td>\n",
       "      <td>4.23</td>\n",
       "      <td>2.63</td>\n",
       "    </tr>\n",
       "    <tr>\n",
       "      <th>5</th>\n",
       "      <td>0.31</td>\n",
       "      <td>Good</td>\n",
       "      <td>J</td>\n",
       "      <td>SI2</td>\n",
       "      <td>63.3</td>\n",
       "      <td>58.0</td>\n",
       "      <td>335</td>\n",
       "      <td>4.34</td>\n",
       "      <td>4.35</td>\n",
       "      <td>2.75</td>\n",
       "    </tr>\n",
       "  </tbody>\n",
       "</table>\n",
       "</div>"
      ],
      "text/plain": [
       "   carat      cut color clarity  depth  table  price     x     y     z\n",
       "1   0.23    Ideal     E     SI2   61.5   55.0    326  3.95  3.98  2.43\n",
       "2   0.21  Premium     E     SI1   59.8   61.0    326  3.89  3.84  2.31\n",
       "3   0.23     Good     E     VS1   56.9   65.0    327  4.05  4.07  2.31\n",
       "4   0.29  Premium     I     VS2   62.4   58.0    334  4.20  4.23  2.63\n",
       "5   0.31     Good     J     SI2   63.3   58.0    335  4.34  4.35  2.75"
      ]
     },
     "execution_count": 5,
     "metadata": {},
     "output_type": "execute_result"
    }
   ],
   "source": [
    "df.head(5)"
   ]
  },
  {
   "cell_type": "markdown",
   "id": "3ab5a48d",
   "metadata": {},
   "source": [
    "Теперь переделаем качественные переменные в численные, есть много схем, как это сделать. Ниже одна из них.\n",
    "\n",
    "![цвет и прозрачность](./color_and_clearity.jpg)"
   ]
  },
  {
   "cell_type": "code",
   "execution_count": 6,
   "id": "7adcb00c",
   "metadata": {},
   "outputs": [
    {
     "name": "stdout",
     "output_type": "stream",
     "text": [
      "cut: ['Ideal' 'Premium' 'Good' 'Very Good' 'Fair']\n",
      "color: ['E' 'I' 'J' 'H' 'F' 'G' 'D']\n",
      "clarity: ['SI2' 'SI1' 'VS1' 'VS2' 'VVS2' 'VVS1' 'I1' 'IF']\n"
     ]
    }
   ],
   "source": [
    "print(\"cut:\", df['cut'].unique())\n",
    "print(\"color:\", df['color'].unique())\n",
    "print(\"clarity:\", df['clarity'].unique())"
   ]
  },
  {
   "cell_type": "code",
   "execution_count": 7,
   "id": "40a4224e",
   "metadata": {},
   "outputs": [],
   "source": [
    "# переделаем качественные параметры\n",
    "cut_dict = {\"Fair\":1, \"Good\":2, \"Very Good\":3, \"Premium\":4, \"Ideal\":5}\n",
    "df['cut_num'] = df['cut'].replace(cut_dict)\n",
    "\n",
    "color_dict = {\"D\":7, \"E\":6, \"F\":5, \"G\":4, \"H\":3, \"I\":2, \"J\":1}\n",
    "df['color_num'] = df['color'].replace(color_dict)\n",
    "\n",
    "clarity_dict = {\"I1\":9, \"SI2\":8, \"SI1\":7, \"VS2\":6, \"VS1\":5, \"VVS2\":4, \"VVS1\":3, \"IF\":2}\n",
    "df['clarity_num'] = df['clarity'].replace(clarity_dict)"
   ]
  },
  {
   "cell_type": "code",
   "execution_count": 8,
   "id": "b2506eeb",
   "metadata": {},
   "outputs": [
    {
     "data": {
      "text/html": [
       "<div>\n",
       "<style scoped>\n",
       "    .dataframe tbody tr th:only-of-type {\n",
       "        vertical-align: middle;\n",
       "    }\n",
       "\n",
       "    .dataframe tbody tr th {\n",
       "        vertical-align: top;\n",
       "    }\n",
       "\n",
       "    .dataframe thead th {\n",
       "        text-align: right;\n",
       "    }\n",
       "</style>\n",
       "<table border=\"1\" class=\"dataframe\">\n",
       "  <thead>\n",
       "    <tr style=\"text-align: right;\">\n",
       "      <th></th>\n",
       "      <th>carat</th>\n",
       "      <th>cut</th>\n",
       "      <th>color</th>\n",
       "      <th>clarity</th>\n",
       "      <th>depth</th>\n",
       "      <th>table</th>\n",
       "      <th>price</th>\n",
       "      <th>x</th>\n",
       "      <th>y</th>\n",
       "      <th>z</th>\n",
       "      <th>cut_num</th>\n",
       "      <th>color_num</th>\n",
       "      <th>clarity_num</th>\n",
       "    </tr>\n",
       "  </thead>\n",
       "  <tbody>\n",
       "    <tr>\n",
       "      <th>1</th>\n",
       "      <td>0.23</td>\n",
       "      <td>Ideal</td>\n",
       "      <td>E</td>\n",
       "      <td>SI2</td>\n",
       "      <td>61.5</td>\n",
       "      <td>55.0</td>\n",
       "      <td>326</td>\n",
       "      <td>3.95</td>\n",
       "      <td>3.98</td>\n",
       "      <td>2.43</td>\n",
       "      <td>5</td>\n",
       "      <td>6</td>\n",
       "      <td>8</td>\n",
       "    </tr>\n",
       "    <tr>\n",
       "      <th>2</th>\n",
       "      <td>0.21</td>\n",
       "      <td>Premium</td>\n",
       "      <td>E</td>\n",
       "      <td>SI1</td>\n",
       "      <td>59.8</td>\n",
       "      <td>61.0</td>\n",
       "      <td>326</td>\n",
       "      <td>3.89</td>\n",
       "      <td>3.84</td>\n",
       "      <td>2.31</td>\n",
       "      <td>4</td>\n",
       "      <td>6</td>\n",
       "      <td>7</td>\n",
       "    </tr>\n",
       "    <tr>\n",
       "      <th>3</th>\n",
       "      <td>0.23</td>\n",
       "      <td>Good</td>\n",
       "      <td>E</td>\n",
       "      <td>VS1</td>\n",
       "      <td>56.9</td>\n",
       "      <td>65.0</td>\n",
       "      <td>327</td>\n",
       "      <td>4.05</td>\n",
       "      <td>4.07</td>\n",
       "      <td>2.31</td>\n",
       "      <td>2</td>\n",
       "      <td>6</td>\n",
       "      <td>5</td>\n",
       "    </tr>\n",
       "    <tr>\n",
       "      <th>4</th>\n",
       "      <td>0.29</td>\n",
       "      <td>Premium</td>\n",
       "      <td>I</td>\n",
       "      <td>VS2</td>\n",
       "      <td>62.4</td>\n",
       "      <td>58.0</td>\n",
       "      <td>334</td>\n",
       "      <td>4.20</td>\n",
       "      <td>4.23</td>\n",
       "      <td>2.63</td>\n",
       "      <td>4</td>\n",
       "      <td>2</td>\n",
       "      <td>6</td>\n",
       "    </tr>\n",
       "    <tr>\n",
       "      <th>5</th>\n",
       "      <td>0.31</td>\n",
       "      <td>Good</td>\n",
       "      <td>J</td>\n",
       "      <td>SI2</td>\n",
       "      <td>63.3</td>\n",
       "      <td>58.0</td>\n",
       "      <td>335</td>\n",
       "      <td>4.34</td>\n",
       "      <td>4.35</td>\n",
       "      <td>2.75</td>\n",
       "      <td>2</td>\n",
       "      <td>1</td>\n",
       "      <td>8</td>\n",
       "    </tr>\n",
       "  </tbody>\n",
       "</table>\n",
       "</div>"
      ],
      "text/plain": [
       "   carat      cut color clarity  depth  table  price     x     y     z  \\\n",
       "1   0.23    Ideal     E     SI2   61.5   55.0    326  3.95  3.98  2.43   \n",
       "2   0.21  Premium     E     SI1   59.8   61.0    326  3.89  3.84  2.31   \n",
       "3   0.23     Good     E     VS1   56.9   65.0    327  4.05  4.07  2.31   \n",
       "4   0.29  Premium     I     VS2   62.4   58.0    334  4.20  4.23  2.63   \n",
       "5   0.31     Good     J     SI2   63.3   58.0    335  4.34  4.35  2.75   \n",
       "\n",
       "   cut_num  color_num  clarity_num  \n",
       "1        5          6            8  \n",
       "2        4          6            7  \n",
       "3        2          6            5  \n",
       "4        4          2            6  \n",
       "5        2          1            8  "
      ]
     },
     "execution_count": 8,
     "metadata": {},
     "output_type": "execute_result"
    }
   ],
   "source": [
    "df.head(5)"
   ]
  },
  {
   "cell_type": "markdown",
   "id": "edd9a41e",
   "metadata": {},
   "source": [
    "### Наша задача -- научиться предсказывать *цену* бриллианта по его параметрам."
   ]
  },
  {
   "cell_type": "code",
   "execution_count": 9,
   "id": "d26cf0f7",
   "metadata": {},
   "outputs": [
    {
     "data": {
      "text/html": [
       "<div>\n",
       "<style scoped>\n",
       "    .dataframe tbody tr th:only-of-type {\n",
       "        vertical-align: middle;\n",
       "    }\n",
       "\n",
       "    .dataframe tbody tr th {\n",
       "        vertical-align: top;\n",
       "    }\n",
       "\n",
       "    .dataframe thead th {\n",
       "        text-align: right;\n",
       "    }\n",
       "</style>\n",
       "<table border=\"1\" class=\"dataframe\">\n",
       "  <thead>\n",
       "    <tr style=\"text-align: right;\">\n",
       "      <th></th>\n",
       "      <th>carat</th>\n",
       "      <th>depth</th>\n",
       "      <th>table</th>\n",
       "      <th>x</th>\n",
       "      <th>y</th>\n",
       "      <th>z</th>\n",
       "      <th>cut_num</th>\n",
       "      <th>color_num</th>\n",
       "      <th>clarity_num</th>\n",
       "    </tr>\n",
       "  </thead>\n",
       "  <tbody>\n",
       "    <tr>\n",
       "      <th>1</th>\n",
       "      <td>0.23</td>\n",
       "      <td>61.5</td>\n",
       "      <td>55.0</td>\n",
       "      <td>3.95</td>\n",
       "      <td>3.98</td>\n",
       "      <td>2.43</td>\n",
       "      <td>5</td>\n",
       "      <td>6</td>\n",
       "      <td>8</td>\n",
       "    </tr>\n",
       "    <tr>\n",
       "      <th>2</th>\n",
       "      <td>0.21</td>\n",
       "      <td>59.8</td>\n",
       "      <td>61.0</td>\n",
       "      <td>3.89</td>\n",
       "      <td>3.84</td>\n",
       "      <td>2.31</td>\n",
       "      <td>4</td>\n",
       "      <td>6</td>\n",
       "      <td>7</td>\n",
       "    </tr>\n",
       "    <tr>\n",
       "      <th>3</th>\n",
       "      <td>0.23</td>\n",
       "      <td>56.9</td>\n",
       "      <td>65.0</td>\n",
       "      <td>4.05</td>\n",
       "      <td>4.07</td>\n",
       "      <td>2.31</td>\n",
       "      <td>2</td>\n",
       "      <td>6</td>\n",
       "      <td>5</td>\n",
       "    </tr>\n",
       "    <tr>\n",
       "      <th>4</th>\n",
       "      <td>0.29</td>\n",
       "      <td>62.4</td>\n",
       "      <td>58.0</td>\n",
       "      <td>4.20</td>\n",
       "      <td>4.23</td>\n",
       "      <td>2.63</td>\n",
       "      <td>4</td>\n",
       "      <td>2</td>\n",
       "      <td>6</td>\n",
       "    </tr>\n",
       "    <tr>\n",
       "      <th>5</th>\n",
       "      <td>0.31</td>\n",
       "      <td>63.3</td>\n",
       "      <td>58.0</td>\n",
       "      <td>4.34</td>\n",
       "      <td>4.35</td>\n",
       "      <td>2.75</td>\n",
       "      <td>2</td>\n",
       "      <td>1</td>\n",
       "      <td>8</td>\n",
       "    </tr>\n",
       "  </tbody>\n",
       "</table>\n",
       "</div>"
      ],
      "text/plain": [
       "   carat  depth  table     x     y     z  cut_num  color_num  clarity_num\n",
       "1   0.23   61.5   55.0  3.95  3.98  2.43        5          6            8\n",
       "2   0.21   59.8   61.0  3.89  3.84  2.31        4          6            7\n",
       "3   0.23   56.9   65.0  4.05  4.07  2.31        2          6            5\n",
       "4   0.29   62.4   58.0  4.20  4.23  2.63        4          2            6\n",
       "5   0.31   63.3   58.0  4.34  4.35  2.75        2          1            8"
      ]
     },
     "execution_count": 9,
     "metadata": {},
     "output_type": "execute_result"
    }
   ],
   "source": [
    "X = df.drop(\"price\", axis=1)\n",
    "y = df[\"price\"]\n",
    "\n",
    "#уберем качественные переменные из выборки\n",
    "X = X.drop([\"cut\", \"color\", \"clarity\"], axis=1)\n",
    "X.head(5)"
   ]
  },
  {
   "cell_type": "markdown",
   "id": "d16f16d8",
   "metadata": {},
   "source": [
    "## 2. *Провести первичный анализ данных. Обосновать выбор переменных, которые будут участвовать в анализе. Описать данные, визуализировать их. Предположить, каким образом независимые переменные должны оказывать влияние на объясняемую переменную из полученных предварительных результатов, общей логики, обзора соответствующей литературы. Провести корреляционный анализ, проверить наличие мультиколлинеарных признаков (в т.ч. с помощью VIFов). (1 балл)*"
   ]
  },
  {
   "cell_type": "markdown",
   "id": "d1ef95fa",
   "metadata": {},
   "source": [
    "В первом пункте мы получили следующие численные переменные: вес в каратах, глубина бриллианта и ширина площадки в относительных значениях, x, y и z измерения в абсолютных значениях (в мм), оценки среза, цвета и прозрачности. \n",
    "\n",
    "Глубина бриллианта, ширина площадки и x, y и z измерения описывают форму блиррианта, а значит описывают огранку. Есть несколько разных способов огрнаки, но все они стараются приблизиться к некоторой идеальной -- 57-граневой полной традиционной огранке. Чем ближе к этой огранке бриллиант, тем он дороже (ближе по пропорциям, по форме, по кол-ву граней). \n",
    "\n",
    "![огранка](./faceting.jpeg)\n",
    "\n",
    "\n",
    "Источник: https://best-brilliant.ru/info/article/standarty-kachestva/\n",
    "\n",
    "Заметим, что глубина рассчитывается из x, y и z параметров:\n",
    "\n",
    "$$ depth = \\frac{z}{mean(x, y)} 100\\% = 2 \\frac{z}{x + y} 100\\%$$\n",
    "\n",
    "Однако я пока не буду выкидывать ее из выборки, потому что пара данных (depth, table) довольно полно описывает форму бриллианта, поэтому нам нужно будет в дальнейшем подумать, какие переменные оставить: depth или явные измерения параметров (x, y, z).\n",
    "\n",
    "Остальные переменные (вес в каратах, оценки среза, цвета и прозрачности) каждая описывает какое-то одно физическое свойство бриллианта, поэтому их всех тоже оставим. "
   ]
  },
  {
   "cell_type": "code",
   "execution_count": 10,
   "id": "1290a4a8",
   "metadata": {},
   "outputs": [
    {
     "data": {
      "text/html": [
       "<div>\n",
       "<style scoped>\n",
       "    .dataframe tbody tr th:only-of-type {\n",
       "        vertical-align: middle;\n",
       "    }\n",
       "\n",
       "    .dataframe tbody tr th {\n",
       "        vertical-align: top;\n",
       "    }\n",
       "\n",
       "    .dataframe thead th {\n",
       "        text-align: right;\n",
       "    }\n",
       "</style>\n",
       "<table border=\"1\" class=\"dataframe\">\n",
       "  <thead>\n",
       "    <tr style=\"text-align: right;\">\n",
       "      <th></th>\n",
       "      <th>VIF</th>\n",
       "      <th>variable</th>\n",
       "    </tr>\n",
       "  </thead>\n",
       "  <tbody>\n",
       "    <tr>\n",
       "      <th>0</th>\n",
       "      <td>6571.603559</td>\n",
       "      <td>Intercept</td>\n",
       "    </tr>\n",
       "    <tr>\n",
       "      <th>1</th>\n",
       "      <td>22.000027</td>\n",
       "      <td>carat</td>\n",
       "    </tr>\n",
       "    <tr>\n",
       "      <th>2</th>\n",
       "      <td>1.718758</td>\n",
       "      <td>depth</td>\n",
       "    </tr>\n",
       "    <tr>\n",
       "      <th>3</th>\n",
       "      <td>1.580986</td>\n",
       "      <td>table</td>\n",
       "    </tr>\n",
       "    <tr>\n",
       "      <th>4</th>\n",
       "      <td>56.897612</td>\n",
       "      <td>x</td>\n",
       "    </tr>\n",
       "    <tr>\n",
       "      <th>5</th>\n",
       "      <td>20.467345</td>\n",
       "      <td>y</td>\n",
       "    </tr>\n",
       "    <tr>\n",
       "      <th>6</th>\n",
       "      <td>23.540975</td>\n",
       "      <td>z</td>\n",
       "    </tr>\n",
       "    <tr>\n",
       "      <th>7</th>\n",
       "      <td>1.483721</td>\n",
       "      <td>cut_num</td>\n",
       "    </tr>\n",
       "    <tr>\n",
       "      <th>8</th>\n",
       "      <td>1.120267</td>\n",
       "      <td>color_num</td>\n",
       "    </tr>\n",
       "    <tr>\n",
       "      <th>9</th>\n",
       "      <td>1.227027</td>\n",
       "      <td>clarity_num</td>\n",
       "    </tr>\n",
       "  </tbody>\n",
       "</table>\n",
       "</div>"
      ],
      "text/plain": [
       "           VIF     variable\n",
       "0  6571.603559    Intercept\n",
       "1    22.000027        carat\n",
       "2     1.718758        depth\n",
       "3     1.580986        table\n",
       "4    56.897612            x\n",
       "5    20.467345            y\n",
       "6    23.540975            z\n",
       "7     1.483721      cut_num\n",
       "8     1.120267    color_num\n",
       "9     1.227027  clarity_num"
      ]
     },
     "execution_count": 10,
     "metadata": {},
     "output_type": "execute_result"
    }
   ],
   "source": [
    "from statsmodels.stats.outliers_influence import variance_inflation_factor\n",
    "from patsy import dmatrices\n",
    "\n",
    "#посчитаем VIF для каждой объясняющей переменной\n",
    "y_vif, X_vif = dmatrices('price ~ carat+depth+table+x+y+z+cut_num+color_num+clarity_num', \n",
    "                 data=df, return_type='dataframe')\n",
    "vif = pd.DataFrame()\n",
    "vif['VIF'] = [variance_inflation_factor(X_vif.values, i) for i in range(X_vif.shape[1])]\n",
    "vif['variable'] = X_vif.columns\n",
    "\n",
    "vif"
   ]
  },
  {
   "cell_type": "markdown",
   "id": "8f99ce35",
   "metadata": {},
   "source": [
    "Значение VIF начинается с 1 и не имеет верхнего предела. Общее эмпирическое правило для интерпретации VIF выглядит следующим образом:\n",
    "\n",
    "- Значение 1 указывает на отсутствие корреляции между данной независимой переменной и любыми другими независимыми переменными в модели.\n",
    "\n",
    "- Значение от 1 до 5 указывает на умеренную корреляцию между данной объясняющей переменной и другими независимыми переменными в модели, но часто она недостаточно серьезна, чтобы требовать внимания.\n",
    "\n",
    "- Значение больше 5 указывает на потенциально сильную корреляцию между данной независимой переменной и другими независимыми переменными в модели. В этом случае оценки коэффициентов и p-значения в выходных данных регрессии, вероятно, ненадежны."
   ]
  },
  {
   "cell_type": "markdown",
   "id": "486fc2b1",
   "metadata": {},
   "source": [
    "То есть, у нас большие проблемы, значения VIF огромные для веса и для измерений параметров. Сначала уберем значение глубины из нашей выборки"
   ]
  },
  {
   "cell_type": "code",
   "execution_count": 11,
   "id": "dbd7d5b2",
   "metadata": {},
   "outputs": [
    {
     "data": {
      "text/html": [
       "<div>\n",
       "<style scoped>\n",
       "    .dataframe tbody tr th:only-of-type {\n",
       "        vertical-align: middle;\n",
       "    }\n",
       "\n",
       "    .dataframe tbody tr th {\n",
       "        vertical-align: top;\n",
       "    }\n",
       "\n",
       "    .dataframe thead th {\n",
       "        text-align: right;\n",
       "    }\n",
       "</style>\n",
       "<table border=\"1\" class=\"dataframe\">\n",
       "  <thead>\n",
       "    <tr style=\"text-align: right;\">\n",
       "      <th></th>\n",
       "      <th>VIF</th>\n",
       "      <th>variable</th>\n",
       "    </tr>\n",
       "  </thead>\n",
       "  <tbody>\n",
       "    <tr>\n",
       "      <th>0</th>\n",
       "      <td>1176.678110</td>\n",
       "      <td>Intercept</td>\n",
       "    </tr>\n",
       "    <tr>\n",
       "      <th>1</th>\n",
       "      <td>21.130461</td>\n",
       "      <td>carat</td>\n",
       "    </tr>\n",
       "    <tr>\n",
       "      <th>2</th>\n",
       "      <td>1.341629</td>\n",
       "      <td>table</td>\n",
       "    </tr>\n",
       "    <tr>\n",
       "      <th>3</th>\n",
       "      <td>50.301994</td>\n",
       "      <td>x</td>\n",
       "    </tr>\n",
       "    <tr>\n",
       "      <th>4</th>\n",
       "      <td>20.272211</td>\n",
       "      <td>y</td>\n",
       "    </tr>\n",
       "    <tr>\n",
       "      <th>5</th>\n",
       "      <td>19.071341</td>\n",
       "      <td>z</td>\n",
       "    </tr>\n",
       "    <tr>\n",
       "      <th>6</th>\n",
       "      <td>1.313141</td>\n",
       "      <td>cut_num</td>\n",
       "    </tr>\n",
       "    <tr>\n",
       "      <th>7</th>\n",
       "      <td>1.118608</td>\n",
       "      <td>color_num</td>\n",
       "    </tr>\n",
       "    <tr>\n",
       "      <th>8</th>\n",
       "      <td>1.217311</td>\n",
       "      <td>clarity_num</td>\n",
       "    </tr>\n",
       "  </tbody>\n",
       "</table>\n",
       "</div>"
      ],
      "text/plain": [
       "           VIF     variable\n",
       "0  1176.678110    Intercept\n",
       "1    21.130461        carat\n",
       "2     1.341629        table\n",
       "3    50.301994            x\n",
       "4    20.272211            y\n",
       "5    19.071341            z\n",
       "6     1.313141      cut_num\n",
       "7     1.118608    color_num\n",
       "8     1.217311  clarity_num"
      ]
     },
     "execution_count": 11,
     "metadata": {},
     "output_type": "execute_result"
    }
   ],
   "source": [
    "#посчитаем VIF без глубины\n",
    "y_vif, X_vif = dmatrices('price ~ carat+table+x+y+z+cut_num+color_num+clarity_num', \n",
    "                 data=df, return_type='dataframe')\n",
    "vif = pd.DataFrame()\n",
    "vif['VIF'] = [variance_inflation_factor(X_vif.values, i) for i in range(X_vif.shape[1])]\n",
    "vif['variable'] = X_vif.columns\n",
    "\n",
    "vif"
   ]
  },
  {
   "cell_type": "markdown",
   "id": "ef08ccb3",
   "metadata": {},
   "source": [
    "Если убрать только глубину, то корреляция все равно остается: между измерениями параметрами размера бриллианта и весом. Впомнив курс физики, мы поймем, что это достаточно логично: вес = объем * плотность. Плотность у бриллиантов примерно одинаковая (3,47—3,55 г/см³), поэтому корреляция между объемом и весом (карат) явная. А значит, тройка значения (carat, depth, table) описывает форму бриллианта целиком, и параметры (x, y, z) нам не нужны. "
   ]
  },
  {
   "cell_type": "code",
   "execution_count": 12,
   "id": "3b3aae58",
   "metadata": {},
   "outputs": [
    {
     "data": {
      "text/html": [
       "<div>\n",
       "<style scoped>\n",
       "    .dataframe tbody tr th:only-of-type {\n",
       "        vertical-align: middle;\n",
       "    }\n",
       "\n",
       "    .dataframe tbody tr th {\n",
       "        vertical-align: top;\n",
       "    }\n",
       "\n",
       "    .dataframe thead th {\n",
       "        text-align: right;\n",
       "    }\n",
       "</style>\n",
       "<table border=\"1\" class=\"dataframe\">\n",
       "  <thead>\n",
       "    <tr style=\"text-align: right;\">\n",
       "      <th></th>\n",
       "      <th>VIF</th>\n",
       "      <th>variable</th>\n",
       "    </tr>\n",
       "  </thead>\n",
       "  <tbody>\n",
       "    <tr>\n",
       "      <th>0</th>\n",
       "      <td>5239.554308</td>\n",
       "      <td>Intercept</td>\n",
       "    </tr>\n",
       "    <tr>\n",
       "      <th>1</th>\n",
       "      <td>1.297731</td>\n",
       "      <td>carat</td>\n",
       "    </tr>\n",
       "    <tr>\n",
       "      <th>2</th>\n",
       "      <td>1.320617</td>\n",
       "      <td>depth</td>\n",
       "    </tr>\n",
       "    <tr>\n",
       "      <th>3</th>\n",
       "      <td>1.576890</td>\n",
       "      <td>table</td>\n",
       "    </tr>\n",
       "    <tr>\n",
       "      <th>4</th>\n",
       "      <td>1.482249</td>\n",
       "      <td>cut_num</td>\n",
       "    </tr>\n",
       "    <tr>\n",
       "      <th>5</th>\n",
       "      <td>1.118789</td>\n",
       "      <td>color_num</td>\n",
       "    </tr>\n",
       "    <tr>\n",
       "      <th>6</th>\n",
       "      <td>1.200370</td>\n",
       "      <td>clarity_num</td>\n",
       "    </tr>\n",
       "  </tbody>\n",
       "</table>\n",
       "</div>"
      ],
      "text/plain": [
       "           VIF     variable\n",
       "0  5239.554308    Intercept\n",
       "1     1.297731        carat\n",
       "2     1.320617        depth\n",
       "3     1.576890        table\n",
       "4     1.482249      cut_num\n",
       "5     1.118789    color_num\n",
       "6     1.200370  clarity_num"
      ]
     },
     "execution_count": 12,
     "metadata": {},
     "output_type": "execute_result"
    }
   ],
   "source": [
    "#посчитаем VIF для объясняющих переменных без (x, y, z)\n",
    "y_vif, X_vif = dmatrices('price ~ carat+depth+table+cut_num+color_num+clarity_num', \n",
    "                 data=df, return_type='dataframe')\n",
    "vif = pd.DataFrame()\n",
    "vif['VIF'] = [variance_inflation_factor(X_vif.values, i) for i in range(X_vif.shape[1])]\n",
    "vif['variable'] = X_vif.columns\n",
    "\n",
    "vif"
   ]
  },
  {
   "cell_type": "markdown",
   "id": "6306d0ad",
   "metadata": {},
   "source": [
    "Таким образом, параметры (x, y, z) нам не нужны, убираем их."
   ]
  },
  {
   "cell_type": "code",
   "execution_count": 13,
   "id": "c8c53219",
   "metadata": {},
   "outputs": [
    {
     "data": {
      "text/html": [
       "<div>\n",
       "<style scoped>\n",
       "    .dataframe tbody tr th:only-of-type {\n",
       "        vertical-align: middle;\n",
       "    }\n",
       "\n",
       "    .dataframe tbody tr th {\n",
       "        vertical-align: top;\n",
       "    }\n",
       "\n",
       "    .dataframe thead th {\n",
       "        text-align: right;\n",
       "    }\n",
       "</style>\n",
       "<table border=\"1\" class=\"dataframe\">\n",
       "  <thead>\n",
       "    <tr style=\"text-align: right;\">\n",
       "      <th></th>\n",
       "      <th>carat</th>\n",
       "      <th>depth</th>\n",
       "      <th>table</th>\n",
       "      <th>cut_num</th>\n",
       "      <th>color_num</th>\n",
       "      <th>clarity_num</th>\n",
       "    </tr>\n",
       "  </thead>\n",
       "  <tbody>\n",
       "    <tr>\n",
       "      <th>1</th>\n",
       "      <td>0.23</td>\n",
       "      <td>61.5</td>\n",
       "      <td>55.0</td>\n",
       "      <td>5</td>\n",
       "      <td>6</td>\n",
       "      <td>8</td>\n",
       "    </tr>\n",
       "    <tr>\n",
       "      <th>2</th>\n",
       "      <td>0.21</td>\n",
       "      <td>59.8</td>\n",
       "      <td>61.0</td>\n",
       "      <td>4</td>\n",
       "      <td>6</td>\n",
       "      <td>7</td>\n",
       "    </tr>\n",
       "    <tr>\n",
       "      <th>3</th>\n",
       "      <td>0.23</td>\n",
       "      <td>56.9</td>\n",
       "      <td>65.0</td>\n",
       "      <td>2</td>\n",
       "      <td>6</td>\n",
       "      <td>5</td>\n",
       "    </tr>\n",
       "    <tr>\n",
       "      <th>4</th>\n",
       "      <td>0.29</td>\n",
       "      <td>62.4</td>\n",
       "      <td>58.0</td>\n",
       "      <td>4</td>\n",
       "      <td>2</td>\n",
       "      <td>6</td>\n",
       "    </tr>\n",
       "    <tr>\n",
       "      <th>5</th>\n",
       "      <td>0.31</td>\n",
       "      <td>63.3</td>\n",
       "      <td>58.0</td>\n",
       "      <td>2</td>\n",
       "      <td>1</td>\n",
       "      <td>8</td>\n",
       "    </tr>\n",
       "  </tbody>\n",
       "</table>\n",
       "</div>"
      ],
      "text/plain": [
       "   carat  depth  table  cut_num  color_num  clarity_num\n",
       "1   0.23   61.5   55.0        5          6            8\n",
       "2   0.21   59.8   61.0        4          6            7\n",
       "3   0.23   56.9   65.0        2          6            5\n",
       "4   0.29   62.4   58.0        4          2            6\n",
       "5   0.31   63.3   58.0        2          1            8"
      ]
     },
     "execution_count": 13,
     "metadata": {},
     "output_type": "execute_result"
    }
   ],
   "source": [
    "#уберем переменные (x, y, z)\n",
    "X = X.drop([\"x\", \"y\", \"z\"], axis=1)\n",
    "X.head(5)"
   ]
  },
  {
   "cell_type": "markdown",
   "id": "07b2c509",
   "metadata": {},
   "source": [
    "### Визуализируем переменные."
   ]
  },
  {
   "cell_type": "markdown",
   "id": "42cda05e",
   "metadata": {},
   "source": [
    "Начнем с целевой переменной -- цены бриллианта."
   ]
  },
  {
   "cell_type": "code",
   "execution_count": 14,
   "id": "d45fd205",
   "metadata": {},
   "outputs": [
    {
     "data": {
      "image/png": "[encoded data removed]",
      "text/plain": [
       "<Figure size 640x480 with 1 Axes>"
      ]
     },
     "metadata": {},
     "output_type": "display_data"
    },
    {
     "name": "stdout",
     "output_type": "stream",
     "text": [
      "Range: 326 - 18823\n",
      "Unique values: 11602\n"
     ]
    }
   ],
   "source": [
    "plt.hist(y, bins=20)\n",
    "plt.xlabel('price')\n",
    "plt.ylabel('count')\n",
    "plt.title('Distribution of prices')\n",
    "plt.show()\n",
    "print(f'Range: {y.min()} - {y.max()}')\n",
    "print(f'Unique values: {np.unique(y).size}')"
   ]
  },
  {
   "cell_type": "code",
   "execution_count": 15,
   "id": "1f9d2385",
   "metadata": {},
   "outputs": [
    {
     "data": {
      "image/png": "[encoded data removed]",
      "text/plain": [
       "<Figure size 640x480 with 1 Axes>"
      ]
     },
     "metadata": {},
     "output_type": "display_data"
    },
    {
     "name": "stdout",
     "output_type": "stream",
     "text": [
      "Range of log: 5.7899601708972535 - 9.842887930407198\n",
      "Unique values: 11602\n"
     ]
    }
   ],
   "source": [
    "plt.hist(np.log1p(y), bins=20)\n",
    "plt.xlabel('log of price')\n",
    "plt.ylabel('count')\n",
    "plt.title('Distribution of log of prices')\n",
    "plt.show()\n",
    "print(f'Range of log: {np.log1p(y).min()} - {np.log1p(y).max()}')\n",
    "print(f'Unique values: {np.unique(np.log1p(y)).size}')"
   ]
  },
  {
   "cell_type": "markdown",
   "id": "8652ea59",
   "metadata": {},
   "source": [
    "Таким образом, распределение логарифма целевой переменной похожа на равномерное ($\\sim U[6, 10]$)"
   ]
  },
  {
   "cell_type": "markdown",
   "id": "e3167b12",
   "metadata": {},
   "source": [
    "Теперь посмотрим на бывшие качесвенные переменные:"
   ]
  },
  {
   "cell_type": "code",
   "execution_count": 16,
   "id": "23d393ff",
   "metadata": {},
   "outputs": [
    {
     "data": {
      "text/plain": [
       "<Axes: title={'center': 'Distribution of clarity quality'}, xlabel='clarity quality', ylabel='count'>"
      ]
     },
     "execution_count": 16,
     "metadata": {},
     "output_type": "execute_result"
    },
    {
     "data": {
      "image/png": "[encoded data removed]",
      "text/plain": [
       "<Figure size 1600x500 with 3 Axes>"
      ]
     },
     "metadata": {},
     "output_type": "display_data"
    }
   ],
   "source": [
    "fig, axes = plt.subplots(1, 3, figsize=(16,5))\n",
    "fig.suptitle('Distribution of color, cut and clarity quality')\n",
    "\n",
    "axes[0].set_title('Distribution of color quality')\n",
    "axes[0].set_xlabel('color quality')\n",
    "axes[0].set_ylabel('count')\n",
    "sns.histplot(data=X['color_num'], ax=axes[0], legend=True)\n",
    "\n",
    "axes[1].set_title('Distribution of cut quality')\n",
    "axes[1].set_xlabel('cut quality')\n",
    "axes[1].set_ylabel('count')\n",
    "sns.histplot(data=X['cut_num'], ax=axes[1], legend=True)\n",
    "\n",
    "axes[2].set_title('Distribution of clarity quality')\n",
    "axes[2].set_xlabel('clarity quality')\n",
    "axes[2].set_ylabel('count')\n",
    "sns.histplot(data=X['clarity_num'], ax=axes[2], legend=True)"
   ]
  },
  {
   "cell_type": "markdown",
   "id": "a1e5bcee",
   "metadata": {},
   "source": [
    "Все хорошо, распределение показывает, что все значения значимые."
   ]
  },
  {
   "cell_type": "markdown",
   "id": "7fa01771",
   "metadata": {},
   "source": [
    "Теперь посмотрим на распределения переменных, описывающих форму: carat, table, depth."
   ]
  },
  {
   "cell_type": "code",
   "execution_count": 17,
   "id": "59d60e9b",
   "metadata": {},
   "outputs": [
    {
     "data": {
      "text/plain": [
       "<Axes: title={'center': 'Distribution of depth'}, xlabel='depth', ylabel='count'>"
      ]
     },
     "execution_count": 17,
     "metadata": {},
     "output_type": "execute_result"
    },
    {
     "data": {
      "image/png": "[encoded data removed]",
      "text/plain": [
       "<Figure size 1600x500 with 3 Axes>"
      ]
     },
     "metadata": {},
     "output_type": "display_data"
    }
   ],
   "source": [
    "fig, axes = plt.subplots(1, 3, figsize=(16,5))\n",
    "fig.suptitle('Distribution of carat, table and depth')\n",
    "\n",
    "axes[0].set_title('Distribution of carat')\n",
    "axes[0].set_xlabel('carat')\n",
    "axes[0].set_ylabel('count')\n",
    "sns.histplot(data=X['carat'], ax=axes[0], bins=100, legend=True)\n",
    "\n",
    "axes[1].set_title('Distribution of table')\n",
    "axes[1].set_xlabel('table')\n",
    "axes[1].set_ylabel('count')\n",
    "sns.histplot(data=X['table'], ax=axes[1], bins=100, legend=True)\n",
    "\n",
    "axes[2].set_title('Distribution of depth')\n",
    "axes[2].set_xlabel('depth')\n",
    "axes[2].set_ylabel('count')\n",
    "sns.histplot(data=X['depth'], ax=axes[2], bins=100, legend=True)"
   ]
  },
  {
   "cell_type": "markdown",
   "id": "57af4495",
   "metadata": {},
   "source": [
    "Распределения без аномалий. Распределения переменных \"размер площадки\" и \"глубина\" вообще близки к нормальным."
   ]
  },
  {
   "cell_type": "markdown",
   "id": "43552d8f",
   "metadata": {},
   "source": [
    "## 3. *Построить уравнение регрессии со значимыми коэффициентами, используя пошаговые алгоритмы регрессионного анализа. Рассмотреть возможность перехода от регрессии исходного признака к регрессии его логарифма (1 балл). Выбрать лучшую из полученных регрессионных моделей̆, основываясь на анализе значений коэффициентов детерминации, остаточных дисперсий и по результатам содержательного анализа моделей̆. (1 балл). На основе графиков выделить переменные, влияющие на гетероскедастичность ошибок. Провести тесты Бройша-Пагана и Уайта для проверки гомоскедастичности ошибок. В случае гетероскедастичности выполнить поправку Уайта.  (1 балл). Провести анализ ошибок модели (1 балл)*"
   ]
  },
  {
   "cell_type": "markdown",
   "id": "c5b142cb",
   "metadata": {},
   "source": [
    "Начнем с регрессионного анализа, только нужно помнить, что надо добавить столбец из свободных элементов."
   ]
  },
  {
   "cell_type": "code",
   "execution_count": 18,
   "id": "951fd048",
   "metadata": {},
   "outputs": [
    {
     "data": {
      "text/html": [
       "<div>\n",
       "<style scoped>\n",
       "    .dataframe tbody tr th:only-of-type {\n",
       "        vertical-align: middle;\n",
       "    }\n",
       "\n",
       "    .dataframe tbody tr th {\n",
       "        vertical-align: top;\n",
       "    }\n",
       "\n",
       "    .dataframe thead th {\n",
       "        text-align: right;\n",
       "    }\n",
       "</style>\n",
       "<table border=\"1\" class=\"dataframe\">\n",
       "  <thead>\n",
       "    <tr style=\"text-align: right;\">\n",
       "      <th></th>\n",
       "      <th>carat</th>\n",
       "      <th>depth</th>\n",
       "      <th>table</th>\n",
       "      <th>cut_num</th>\n",
       "      <th>color_num</th>\n",
       "      <th>clarity_num</th>\n",
       "      <th>const</th>\n",
       "    </tr>\n",
       "  </thead>\n",
       "  <tbody>\n",
       "    <tr>\n",
       "      <th>17765</th>\n",
       "      <td>1.05</td>\n",
       "      <td>62.6</td>\n",
       "      <td>58.0</td>\n",
       "      <td>4</td>\n",
       "      <td>5</td>\n",
       "      <td>6</td>\n",
       "      <td>1</td>\n",
       "    </tr>\n",
       "    <tr>\n",
       "      <th>11667</th>\n",
       "      <td>1.01</td>\n",
       "      <td>59.0</td>\n",
       "      <td>63.5</td>\n",
       "      <td>2</td>\n",
       "      <td>2</td>\n",
       "      <td>5</td>\n",
       "      <td>1</td>\n",
       "    </tr>\n",
       "    <tr>\n",
       "      <th>44007</th>\n",
       "      <td>0.30</td>\n",
       "      <td>61.6</td>\n",
       "      <td>62.0</td>\n",
       "      <td>3</td>\n",
       "      <td>2</td>\n",
       "      <td>7</td>\n",
       "      <td>1</td>\n",
       "    </tr>\n",
       "    <tr>\n",
       "      <th>18026</th>\n",
       "      <td>1.50</td>\n",
       "      <td>62.3</td>\n",
       "      <td>59.0</td>\n",
       "      <td>4</td>\n",
       "      <td>3</td>\n",
       "      <td>8</td>\n",
       "      <td>1</td>\n",
       "    </tr>\n",
       "    <tr>\n",
       "      <th>8965</th>\n",
       "      <td>1.03</td>\n",
       "      <td>60.7</td>\n",
       "      <td>60.0</td>\n",
       "      <td>4</td>\n",
       "      <td>5</td>\n",
       "      <td>8</td>\n",
       "      <td>1</td>\n",
       "    </tr>\n",
       "  </tbody>\n",
       "</table>\n",
       "</div>"
      ],
      "text/plain": [
       "       carat  depth  table  cut_num  color_num  clarity_num  const\n",
       "17765   1.05   62.6   58.0        4          5            6      1\n",
       "11667   1.01   59.0   63.5        2          2            5      1\n",
       "44007   0.30   61.6   62.0        3          2            7      1\n",
       "18026   1.50   62.3   59.0        4          3            8      1\n",
       "8965    1.03   60.7   60.0        4          5            8      1"
      ]
     },
     "execution_count": 18,
     "metadata": {},
     "output_type": "execute_result"
    }
   ],
   "source": [
    "X.loc[:, ('const')] = 1\n",
    "X.sample(5)"
   ]
  },
  {
   "cell_type": "code",
   "execution_count": 19,
   "id": "decfd5cb",
   "metadata": {},
   "outputs": [
    {
     "name": "stdout",
     "output_type": "stream",
     "text": [
      "                            OLS Regression Results                            \n",
      "==============================================================================\n",
      "Dep. Variable:                  price   R-squared:                       0.904\n",
      "Model:                            OLS   Adj. R-squared:                  0.904\n",
      "Method:                 Least Squares   F-statistic:                 8.503e+04\n",
      "Date:                Thu, 30 Nov 2023   Prob (F-statistic):               0.00\n",
      "Time:                        18:12:46   Log-Likelihood:            -4.6046e+05\n",
      "No. Observations:               53940   AIC:                         9.209e+05\n",
      "Df Residuals:                   53933   BIC:                         9.210e+05\n",
      "Df Model:                           6                                         \n",
      "Covariance Type:            nonrobust                                         \n",
      "===============================================================================\n",
      "                  coef    std err          t      P>|t|      [0.025      0.975]\n",
      "-------------------------------------------------------------------------------\n",
      "carat        8793.8028     12.765    688.889      0.000    8768.783    8818.823\n",
      "depth         -44.4921      4.261    -10.442      0.000     -52.843     -36.141\n",
      "table         -25.6425      2.985     -8.590      0.000     -31.493     -19.792\n",
      "cut_num       122.4541      5.791     21.144      0.000     111.103     133.805\n",
      "color_num     318.1991      3.303     96.346      0.000     311.726     324.672\n",
      "clarity_num  -521.9017      3.533   -147.719      0.000    -528.827    -514.977\n",
      "const        2361.3714    384.474      6.142      0.000    1607.800    3114.943\n",
      "==============================================================================\n",
      "Omnibus:                    10791.729   Durbin-Watson:                   0.936\n",
      "Prob(Omnibus):                  0.000   Jarque-Bera (JB):           250931.890\n",
      "Skew:                           0.368   Prob(JB):                         0.00\n",
      "Kurtosis:                      13.541   Cond. No.                     6.14e+03\n",
      "==============================================================================\n",
      "\n",
      "Notes:\n",
      "[1] Standard Errors assume that the covariance matrix of the errors is correctly specified.\n",
      "[2] The condition number is large, 6.14e+03. This might indicate that there are\n",
      "strong multicollinearity or other numerical problems.\n"
     ]
    }
   ],
   "source": [
    "import statsmodels.api as sm\n",
    "\n",
    "model = sm.OLS(y, X)\n",
    "res = model.fit()\n",
    "print(res.summary())"
   ]
  },
  {
   "cell_type": "markdown",
   "id": "af93f7fa",
   "metadata": {},
   "source": [
    "Значения p-value для всех переменных равны 0, что меньше уровня значимости $\\alpha = 0.05$, а значит все переменные значимы. Также, значение метрики $R^2 = 90\\%$, то есть мы описываем изменения цены на $90\\%$."
   ]
  },
  {
   "cell_type": "markdown",
   "id": "36b91c75",
   "metadata": {},
   "source": [
    "Посмотрим, удастся ли нам сильно уменьшить кол-во объясняющих переменных, не снижая особо качество модели. Для этого попробуем отказаться от бывших качественных переменных (качество среза, прозрачности и цвета) в качестве объясняющих переменных, и попробуем построить модель только на основании переменых, описывающих форму."
   ]
  },
  {
   "cell_type": "code",
   "execution_count": 20,
   "id": "d3fb96bb",
   "metadata": {},
   "outputs": [
    {
     "name": "stdout",
     "output_type": "stream",
     "text": [
      "                            OLS Regression Results                            \n",
      "==============================================================================\n",
      "Dep. Variable:                  price   R-squared:                       0.854\n",
      "Model:                            OLS   Adj. R-squared:                  0.854\n",
      "Method:                 Least Squares   F-statistic:                 1.049e+05\n",
      "Date:                Thu, 30 Nov 2023   Prob (F-statistic):               0.00\n",
      "Time:                        18:12:48   Log-Likelihood:            -4.7194e+05\n",
      "No. Observations:               53940   AIC:                         9.439e+05\n",
      "Df Residuals:                   53936   BIC:                         9.439e+05\n",
      "Df Model:                           3                                         \n",
      "Covariance Type:            nonrobust                                         \n",
      "==============================================================================\n",
      "                 coef    std err          t      P>|t|      [0.025      0.975]\n",
      "------------------------------------------------------------------------------\n",
      "carat       7858.7705     14.151    555.356      0.000    7831.035    7886.506\n",
      "depth       -151.2363      4.820    -31.378      0.000    -160.683    -141.789\n",
      "table       -104.4728      3.141    -33.259      0.000    -110.630     -98.316\n",
      "const         1.3e+04    390.918     33.264      0.000    1.22e+04    1.38e+04\n",
      "==============================================================================\n",
      "Omnibus:                    14107.737   Durbin-Watson:                   1.015\n",
      "Prob(Omnibus):                  0.000   Jarque-Bera (JB):           154392.067\n",
      "Skew:                           0.945   Prob(JB):                         0.00\n",
      "Kurtosis:                      11.070   Cond. No.                     5.02e+03\n",
      "==============================================================================\n",
      "\n",
      "Notes:\n",
      "[1] Standard Errors assume that the covariance matrix of the errors is correctly specified.\n",
      "[2] The condition number is large, 5.02e+03. This might indicate that there are\n",
      "strong multicollinearity or other numerical problems.\n"
     ]
    }
   ],
   "source": [
    "model = sm.OLS(y, X.drop([\"cut_num\", \"clarity_num\", \"color_num\"], axis=1))\n",
    "res = model.fit()\n",
    "print(res.summary())"
   ]
  },
  {
   "cell_type": "markdown",
   "id": "b3a5a230",
   "metadata": {},
   "source": [
    "В полученной модели все переменные по-прежнему значимы, но мы потеряли $5\\%$ изменения цены по метрике $R^2$ (теперь она равна $85\\%$). Однако модель теперь стала в два раза меньше. "
   ]
  },
  {
   "cell_type": "markdown",
   "id": "a837470f",
   "metadata": {},
   "source": [
    "Попробуем теперь посмотреть на самую простую модель -- попробуем предсказать изменение цены только по весу. В целом, больше всего на слуху именно этот параметр бриллианта (часто можно услышать, как невесты после предложения сообщают именно эту информацию о камне в их помолвочном кольце своим подружкам), поэтому можно предположить, что именно этот параметр самый показательный."
   ]
  },
  {
   "cell_type": "code",
   "execution_count": 21,
   "id": "13e6d6ee",
   "metadata": {},
   "outputs": [
    {
     "name": "stdout",
     "output_type": "stream",
     "text": [
      "                            OLS Regression Results                            \n",
      "==============================================================================\n",
      "Dep. Variable:                  price   R-squared:                       0.849\n",
      "Model:                            OLS   Adj. R-squared:                  0.849\n",
      "Method:                 Least Squares   F-statistic:                 3.041e+05\n",
      "Date:                Thu, 30 Nov 2023   Prob (F-statistic):               0.00\n",
      "Time:                        18:12:50   Log-Likelihood:            -4.7273e+05\n",
      "No. Observations:               53940   AIC:                         9.455e+05\n",
      "Df Residuals:                   53938   BIC:                         9.455e+05\n",
      "Df Model:                           1                                         \n",
      "Covariance Type:            nonrobust                                         \n",
      "==============================================================================\n",
      "                 coef    std err          t      P>|t|      [0.025      0.975]\n",
      "------------------------------------------------------------------------------\n",
      "carat       7756.4256     14.067    551.408      0.000    7728.855    7783.996\n",
      "const      -2256.3606     13.055   -172.830      0.000   -2281.949   -2230.772\n",
      "==============================================================================\n",
      "Omnibus:                    14025.341   Durbin-Watson:                   0.986\n",
      "Prob(Omnibus):                  0.000   Jarque-Bera (JB):           153030.525\n",
      "Skew:                           0.939   Prob(JB):                         0.00\n",
      "Kurtosis:                      11.035   Cond. No.                         3.65\n",
      "==============================================================================\n",
      "\n",
      "Notes:\n",
      "[1] Standard Errors assume that the covariance matrix of the errors is correctly specified.\n"
     ]
    }
   ],
   "source": [
    "model = sm.OLS(y, X[[\"carat\", \"const\"]])\n",
    "res = model.fit()\n",
    "print(res.summary())"
   ]
  },
  {
   "cell_type": "markdown",
   "id": "e2d82615",
   "metadata": {},
   "source": [
    "В полученной модели все переменные по-прежнему значимы, однако значение метрики $R^2$ почти не изменилось, несмотря на то, что мы избавились от всех параметров, описывающих форму бриллианта. Значит, от переменных \"depth\" и \"table\" мы можем отказаться. "
   ]
  },
  {
   "cell_type": "code",
   "execution_count": 22,
   "id": "c3481181",
   "metadata": {},
   "outputs": [
    {
     "name": "stdout",
     "output_type": "stream",
     "text": [
      "                            OLS Regression Results                            \n",
      "==============================================================================\n",
      "Dep. Variable:                  price   R-squared:                       0.000\n",
      "Model:                            OLS   Adj. R-squared:                  0.000\n",
      "Method:                 Least Squares   F-statistic:                     6.115\n",
      "Date:                Thu, 30 Nov 2023   Prob (F-statistic):             0.0134\n",
      "Time:                        18:15:34   Log-Likelihood:            -5.2377e+05\n",
      "No. Observations:               53940   AIC:                         1.048e+06\n",
      "Df Residuals:                   53938   BIC:                         1.048e+06\n",
      "Df Model:                           1                                         \n",
      "Covariance Type:            nonrobust                                         \n",
      "==============================================================================\n",
      "                 coef    std err          t      P>|t|      [0.025      0.975]\n",
      "------------------------------------------------------------------------------\n",
      "depth        -29.6500     11.990     -2.473      0.013     -53.150      -6.150\n",
      "const       5763.6677    740.556      7.783      0.000    4312.171    7215.164\n",
      "==============================================================================\n",
      "Omnibus:                    15077.502   Durbin-Watson:                   0.012\n",
      "Prob(Omnibus):                  0.000   Jarque-Bera (JB):            34117.839\n",
      "Skew:                           1.617   Prob(JB):                         0.00\n",
      "Kurtosis:                       5.173   Cond. No.                     2.66e+03\n",
      "==============================================================================\n",
      "\n",
      "Notes:\n",
      "[1] Standard Errors assume that the covariance matrix of the errors is correctly specified.\n",
      "[2] The condition number is large, 2.66e+03. This might indicate that there are\n",
      "strong multicollinearity or other numerical problems.\n"
     ]
    }
   ],
   "source": [
    "model = sm.OLS(y, X[[\"depth\", \"const\"]])\n",
    "res = model.fit()\n",
    "print(res.summary())"
   ]
  },
  {
   "cell_type": "code",
   "execution_count": 23,
   "id": "87680e67",
   "metadata": {},
   "outputs": [
    {
     "name": "stdout",
     "output_type": "stream",
     "text": [
      "                            OLS Regression Results                            \n",
      "==============================================================================\n",
      "Dep. Variable:                  price   R-squared:                       0.016\n",
      "Model:                            OLS   Adj. R-squared:                  0.016\n",
      "Method:                 Least Squares   F-statistic:                     886.1\n",
      "Date:                Thu, 30 Nov 2023   Prob (F-statistic):          3.76e-193\n",
      "Time:                        18:15:34   Log-Likelihood:            -5.2334e+05\n",
      "No. Observations:               53940   AIC:                         1.047e+06\n",
      "Df Residuals:                   53938   BIC:                         1.047e+06\n",
      "Df Model:                           1                                         \n",
      "Covariance Type:            nonrobust                                         \n",
      "==============================================================================\n",
      "                 coef    std err          t      P>|t|      [0.025      0.975]\n",
      "------------------------------------------------------------------------------\n",
      "table        226.9837      7.625     29.768      0.000     212.038     241.929\n",
      "const      -9109.0472    438.450    -20.776      0.000   -9968.413   -8249.682\n",
      "==============================================================================\n",
      "Omnibus:                    15151.635   Durbin-Watson:                   0.041\n",
      "Prob(Omnibus):                  0.000   Jarque-Bera (JB):            34614.299\n",
      "Skew:                           1.618   Prob(JB):                         0.00\n",
      "Kurtosis:                       5.220   Cond. No.                     1.48e+03\n",
      "==============================================================================\n",
      "\n",
      "Notes:\n",
      "[1] Standard Errors assume that the covariance matrix of the errors is correctly specified.\n",
      "[2] The condition number is large, 1.48e+03. This might indicate that there are\n",
      "strong multicollinearity or other numerical problems.\n"
     ]
    }
   ],
   "source": [
    "model = sm.OLS(y, X[[\"table\", \"const\"]])\n",
    "res = model.fit()\n",
    "print(res.summary())"
   ]
  },
  {
   "cell_type": "markdown",
   "id": "cf9b1779",
   "metadata": {},
   "source": [
    "Построив модели для предсказания цены только по глубине бриллианта и только по размеру площадки мы поймем, что не ошиблись с выбором именно переменной веса бриллианта (каратов) как единственной переменной для описания ценообразования: метрика $R^2$ для остальных двух переменных около 0. "
   ]
  },
  {
   "cell_type": "markdown",
   "id": "be9c4968",
   "metadata": {},
   "source": [
    "Теперь перейдем к метрикам качетсва: качеству среза, цвету и прозрачности бриллианта. Цвет и прозрачность можно отнести к описанию камня, а качество среза -- к качеству обработки камня. Поэтому построим две модели: предскажем цену по качеству камня и предскажем цену по качеству обработки."
   ]
  },
  {
   "cell_type": "code",
   "execution_count": 24,
   "id": "e231a6c2",
   "metadata": {},
   "outputs": [
    {
     "name": "stdout",
     "output_type": "stream",
     "text": [
      "                            OLS Regression Results                            \n",
      "==============================================================================\n",
      "Dep. Variable:                  price   R-squared:                       0.053\n",
      "Model:                            OLS   Adj. R-squared:                  0.053\n",
      "Method:                 Least Squares   F-statistic:                     1499.\n",
      "Date:                Thu, 30 Nov 2023   Prob (F-statistic):               0.00\n",
      "Time:                        18:38:57   Log-Likelihood:            -5.2232e+05\n",
      "No. Observations:               53940   AIC:                         1.045e+06\n",
      "Df Residuals:                   53937   BIC:                         1.045e+06\n",
      "Df Model:                           2                                         \n",
      "Covariance Type:            nonrobust                                         \n",
      "===============================================================================\n",
      "                  coef    std err          t      P>|t|      [0.025      0.975]\n",
      "-------------------------------------------------------------------------------\n",
      "color_num    -413.6695      9.832    -42.074      0.000    -432.940    -394.399\n",
      "clarity_num   366.5068     10.154     36.095      0.000     346.605     386.409\n",
      "const        3575.0040     75.304     47.474      0.000    3427.408    3722.601\n",
      "==============================================================================\n",
      "Omnibus:                    15319.761   Durbin-Watson:                   0.082\n",
      "Prob(Omnibus):                  0.000   Jarque-Bera (JB):            35783.226\n",
      "Skew:                           1.620   Prob(JB):                         0.00\n",
      "Kurtosis:                       5.328   Cond. No.                         34.8\n",
      "==============================================================================\n",
      "\n",
      "Notes:\n",
      "[1] Standard Errors assume that the covariance matrix of the errors is correctly specified.\n"
     ]
    }
   ],
   "source": [
    "model = sm.OLS(y, X[[\"color_num\", \"clarity_num\", \"const\"]])\n",
    "res = model.fit()\n",
    "print(res.summary())"
   ]
  },
  {
   "cell_type": "code",
   "execution_count": 25,
   "id": "1953bace",
   "metadata": {},
   "outputs": [
    {
     "name": "stdout",
     "output_type": "stream",
     "text": [
      "                            OLS Regression Results                            \n",
      "==============================================================================\n",
      "Dep. Variable:                  price   R-squared:                       0.003\n",
      "Model:                            OLS   Adj. R-squared:                  0.003\n",
      "Method:                 Least Squares   F-statistic:                     154.8\n",
      "Date:                Thu, 30 Nov 2023   Prob (F-statistic):           1.76e-35\n",
      "Time:                        21:04:15   Log-Likelihood:            -5.2370e+05\n",
      "No. Observations:               53940   AIC:                         1.047e+06\n",
      "Df Residuals:                   53938   BIC:                         1.047e+06\n",
      "Df Model:                           1                                         \n",
      "Covariance Type:            nonrobust                                         \n",
      "==============================================================================\n",
      "                 coef    std err          t      P>|t|      [0.025      0.975]\n",
      "------------------------------------------------------------------------------\n",
      "cut_num     -191.1139     15.362    -12.441      0.000    -221.223    -161.004\n",
      "const       4678.9270     62.379     75.008      0.000    4556.664    4801.190\n",
      "==============================================================================\n",
      "Omnibus:                    15230.812   Durbin-Watson:                   0.017\n",
      "Prob(Omnibus):                  0.000   Jarque-Bera (JB):            34791.403\n",
      "Skew:                           1.628   Prob(JB):                         0.00\n",
      "Kurtosis:                       5.209   Cond. No.                         15.6\n",
      "==============================================================================\n",
      "\n",
      "Notes:\n",
      "[1] Standard Errors assume that the covariance matrix of the errors is correctly specified.\n"
     ]
    }
   ],
   "source": [
    "model = sm.OLS(y, X[[\"cut_num\", \"const\"]])\n",
    "res = model.fit()\n",
    "print(res.summary())"
   ]
  },
  {
   "cell_type": "markdown",
   "id": "81dd1a7d",
   "metadata": {},
   "source": [
    "Все p-value около 0, то есть точно меньше уровня значиомти $\\alpha = 0.05$, то есть все коэффициента значимые. Смотрим на метрику $R^2$: признаки камня объясняют колебания цены на $5\\%$, а для признаков обработки метрика $R^2$ около 0. Поэтому можно сказать, что качество среза можно не учитывать в нашей модели."
   ]
  },
  {
   "cell_type": "markdown",
   "id": "17fff9f9",
   "metadata": {},
   "source": [
    "Таким образом, оставим в нашей модели вес камня и признаки камня, то есть carat, color_num, clarity_num. То есть, наша финальная модель:\n",
    "\n",
    "$$price_i = \\beta_0 + \\beta_1 * carat_i + \\beta_2 * \\text{color_num}_i + \\beta_3 * \\text{clarity_num}_i + \\varepsilon_i$$"
   ]
  },
  {
   "cell_type": "code",
   "execution_count": 26,
   "id": "c97a7e53",
   "metadata": {},
   "outputs": [
    {
     "name": "stdout",
     "output_type": "stream",
     "text": [
      "                            OLS Regression Results                            \n",
      "==============================================================================\n",
      "Dep. Variable:                  price   R-squared:                       0.902\n",
      "Model:                            OLS   Adj. R-squared:                  0.902\n",
      "Method:                 Least Squares   F-statistic:                 1.661e+05\n",
      "Date:                Thu, 30 Nov 2023   Prob (F-statistic):               0.00\n",
      "Time:                        21:11:31   Log-Likelihood:            -4.6103e+05\n",
      "No. Observations:               53940   AIC:                         9.221e+05\n",
      "Df Residuals:                   53936   BIC:                         9.221e+05\n",
      "Df Model:                           3                                         \n",
      "Covariance Type:            nonrobust                                         \n",
      "===============================================================================\n",
      "                  coef    std err          t      P>|t|      [0.025      0.975]\n",
      "-------------------------------------------------------------------------------\n",
      "carat        8755.4676     12.780    685.065      0.000    8730.418    8780.517\n",
      "color_num     319.8955      3.333     95.969      0.000     313.362     326.429\n",
      "clarity_num  -541.9427      3.519   -153.985      0.000    -548.841    -535.045\n",
      "const       -1238.9262     25.178    -49.207      0.000   -1288.275   -1189.578\n",
      "==============================================================================\n",
      "Omnibus:                    10608.097   Durbin-Watson:                   0.929\n",
      "Prob(Omnibus):                  0.000   Jarque-Bera (JB):           248977.293\n",
      "Skew:                           0.339   Prob(JB):                         0.00\n",
      "Kurtosis:                      13.503   Cond. No.                         36.8\n",
      "==============================================================================\n",
      "\n",
      "Notes:\n",
      "[1] Standard Errors assume that the covariance matrix of the errors is correctly specified.\n"
     ]
    }
   ],
   "source": [
    "model = sm.OLS(y, X[[\"carat\", \"color_num\", \"clarity_num\", \"const\"]])\n",
    "res = model.fit()\n",
    "print(res.summary())"
   ]
  },
  {
   "cell_type": "markdown",
   "id": "2a51071e",
   "metadata": {},
   "source": [
    "В полученной модели достигнуто исходное значение метрики $R^2$, то есть модель:\n",
    "\n",
    "$$price_i = \\beta_0 + \\beta_1 * carat_i + \\beta_2 * \\text{color_num}_i + \\beta_3 * \\text{clarity_num}_i + \\varepsilon_i$$\n",
    "\n",
    "объясняет колебания цены на $90\\%$, как и исходная модель:\n",
    "\n",
    "$$price_i = \\beta_0 + \\beta_1 * carat_i + \\beta_2 * depth_i + \\beta_3 * table_i + \\beta_4 * \\text{cut_num}_i + \\beta_5 * \\text{color_num}_i + \\beta_6 * \\text{clarity_num}_i + \\varepsilon_i$$\n",
    "\n",
    "Таким образом, мы сократили кол-во переменных в два раза, сохранив прежний уровень репрезентативности модели."
   ]
  },
  {
   "cell_type": "code",
   "execution_count": 27,
   "id": "1eda43d9",
   "metadata": {},
   "outputs": [
    {
     "data": {
      "text/html": [
       "<div>\n",
       "<style scoped>\n",
       "    .dataframe tbody tr th:only-of-type {\n",
       "        vertical-align: middle;\n",
       "    }\n",
       "\n",
       "    .dataframe tbody tr th {\n",
       "        vertical-align: top;\n",
       "    }\n",
       "\n",
       "    .dataframe thead th {\n",
       "        text-align: right;\n",
       "    }\n",
       "</style>\n",
       "<table border=\"1\" class=\"dataframe\">\n",
       "  <thead>\n",
       "    <tr style=\"text-align: right;\">\n",
       "      <th></th>\n",
       "      <th>const</th>\n",
       "      <th>carat</th>\n",
       "      <th>color_num</th>\n",
       "      <th>clarity_num</th>\n",
       "    </tr>\n",
       "  </thead>\n",
       "  <tbody>\n",
       "    <tr>\n",
       "      <th>2791</th>\n",
       "      <td>1</td>\n",
       "      <td>0.91</td>\n",
       "      <td>1</td>\n",
       "      <td>6</td>\n",
       "    </tr>\n",
       "    <tr>\n",
       "      <th>30866</th>\n",
       "      <td>1</td>\n",
       "      <td>0.33</td>\n",
       "      <td>4</td>\n",
       "      <td>6</td>\n",
       "    </tr>\n",
       "    <tr>\n",
       "      <th>26759</th>\n",
       "      <td>1</td>\n",
       "      <td>1.57</td>\n",
       "      <td>6</td>\n",
       "      <td>6</td>\n",
       "    </tr>\n",
       "    <tr>\n",
       "      <th>18143</th>\n",
       "      <td>1</td>\n",
       "      <td>1.54</td>\n",
       "      <td>1</td>\n",
       "      <td>7</td>\n",
       "    </tr>\n",
       "    <tr>\n",
       "      <th>49772</th>\n",
       "      <td>1</td>\n",
       "      <td>0.50</td>\n",
       "      <td>5</td>\n",
       "      <td>4</td>\n",
       "    </tr>\n",
       "  </tbody>\n",
       "</table>\n",
       "</div>"
      ],
      "text/plain": [
       "       const  carat  color_num  clarity_num\n",
       "2791       1   0.91          1            6\n",
       "30866      1   0.33          4            6\n",
       "26759      1   1.57          6            6\n",
       "18143      1   1.54          1            7\n",
       "49772      1   0.50          5            4"
      ]
     },
     "execution_count": 27,
     "metadata": {},
     "output_type": "execute_result"
    }
   ],
   "source": [
    "#уберем ненужные, как оказалось, переменные:\n",
    "X = X[[\"const\", \"carat\", \"color_num\", \"clarity_num\"]]\n",
    "X.sample(5)"
   ]
  },
  {
   "cell_type": "markdown",
   "id": "606b78fc",
   "metadata": {},
   "source": [
    "Посмотим, есть ли смысл переходить от целевой переменной к логарифму целевой переменной."
   ]
  },
  {
   "cell_type": "code",
   "execution_count": 28,
   "id": "927b9674",
   "metadata": {},
   "outputs": [
    {
     "data": {
      "text/plain": [
       "<Axes: title={'center': 'Distribution of log of price'}, xlabel='log of price', ylabel='count'>"
      ]
     },
     "execution_count": 28,
     "metadata": {},
     "output_type": "execute_result"
    },
    {
     "data": {
      "image/png": "[encoded data removed]",
      "text/plain": [
       "<Figure size 1600x500 with 2 Axes>"
      ]
     },
     "metadata": {},
     "output_type": "display_data"
    }
   ],
   "source": [
    "fig, axes = plt.subplots(1, 2, figsize=(16,5))\n",
    "fig.suptitle('Distribution of price')\n",
    "\n",
    "axes[0].set_title('Distribution of price')\n",
    "axes[0].set_xlabel('price')\n",
    "axes[0].set_ylabel('count')\n",
    "sns.histplot(data=y, ax=axes[0], bins=100, legend=True)\n",
    "\n",
    "axes[1].set_title('Distribution of log of price')\n",
    "axes[1].set_xlabel('log of price')\n",
    "axes[1].set_ylabel('count')\n",
    "sns.histplot(data=np.log1p(y), ax=axes[1], bins=100, legend=True)"
   ]
  },
  {
   "cell_type": "markdown",
   "id": "8ade9f4f",
   "metadata": {},
   "source": [
    "Распределение логарифма целевой переменнй выглядит более равномерно, чем распределние целевой переменной, поэтому попробуем перейти к логарифму. Для этого построим следующую модель:\n",
    "\n",
    "$$ln(price_i + 1) = log1p(price_i) = \\beta_0 + \\beta_1 * carat_i + \\beta_2 * \\text{color_num}_i + \\beta_3 * \\text{clarity_num}_i + \\varepsilon_i$$"
   ]
  },
  {
   "cell_type": "code",
   "execution_count": 29,
   "id": "948bc94f",
   "metadata": {},
   "outputs": [
    {
     "name": "stdout",
     "output_type": "stream",
     "text": [
      "                            OLS Regression Results                            \n",
      "==============================================================================\n",
      "Dep. Variable:                  price   R-squared:                       0.880\n",
      "Model:                            OLS   Adj. R-squared:                  0.880\n",
      "Method:                 Least Squares   F-statistic:                 1.315e+05\n",
      "Date:                Thu, 30 Nov 2023   Prob (F-statistic):               0.00\n",
      "Time:                        21:25:43   Log-Likelihood:                -20171.\n",
      "No. Observations:               53940   AIC:                         4.035e+04\n",
      "Df Residuals:                   53936   BIC:                         4.039e+04\n",
      "Df Model:                           3                                         \n",
      "Covariance Type:            nonrobust                                         \n",
      "===============================================================================\n",
      "                  coef    std err          t      P>|t|      [0.025      0.975]\n",
      "-------------------------------------------------------------------------------\n",
      "const           6.2188      0.007    875.530      0.000       6.205       6.233\n",
      "carat           2.1709      0.004    602.096      0.000       2.164       2.178\n",
      "color_num       0.0861      0.001     91.613      0.000       0.084       0.088\n",
      "clarity_num    -0.0913      0.001    -91.956      0.000      -0.093      -0.089\n",
      "==============================================================================\n",
      "Omnibus:                    20444.676   Durbin-Watson:                   0.785\n",
      "Prob(Omnibus):                  0.000   Jarque-Bera (JB):           244473.434\n",
      "Skew:                          -1.485   Prob(JB):                         0.00\n",
      "Kurtosis:                      12.998   Cond. No.                         36.8\n",
      "==============================================================================\n",
      "\n",
      "Notes:\n",
      "[1] Standard Errors assume that the covariance matrix of the errors is correctly specified.\n"
     ]
    }
   ],
   "source": [
    "model = sm.OLS(np.log1p(y), X)\n",
    "res = model.fit()\n",
    "print(res.summary())"
   ]
  },
  {
   "cell_type": "markdown",
   "id": "76db5932",
   "metadata": {},
   "source": [
    "Все переменные по-прежнему значимые, но вот модель стала объяснять колебания цены (логарифма цены) хуже: метрика $R^2$ стала меньше, $88\\%$ вместо $90\\%$. Поэтому не будем переходить от цены к логарифму цены, останемся с нашей прежней целевой переменной. То есть, остановимся на предыдущей модели:\n",
    "\n",
    "$$price_i = \\beta_0 + \\beta_1 * carat_i + \\beta_2 * \\text{color_num}_i + \\beta_3 * \\text{clarity_num}_i + \\varepsilon_i$$"
   ]
  },
  {
   "cell_type": "markdown",
   "id": "d860cbfb",
   "metadata": {},
   "source": [
    "Теперь будем смотреть на гетероскедастичность нашей модели.\n",
    "\n",
    "**Нулевая гипотеза**: в данных присутсвует гомоскедастичность.\n",
    "\n",
    "**Альтернативная гипотеза**: в данных отсутсвтует гомоскедастичность."
   ]
  },
  {
   "cell_type": "code",
   "execution_count": 39,
   "id": "f0b46672",
   "metadata": {},
   "outputs": [
    {
     "data": {
      "text/html": [
       "<table class=\"simpletable\">\n",
       "<caption>OLS Regression Results</caption>\n",
       "<tr>\n",
       "  <th>Dep. Variable:</th>          <td>price</td>      <th>  R-squared:         </th>  <td>   0.902</td>  \n",
       "</tr>\n",
       "<tr>\n",
       "  <th>Model:</th>                   <td>OLS</td>       <th>  Adj. R-squared:    </th>  <td>   0.902</td>  \n",
       "</tr>\n",
       "<tr>\n",
       "  <th>Method:</th>             <td>Least Squares</td>  <th>  F-statistic:       </th>  <td>1.661e+05</td> \n",
       "</tr>\n",
       "<tr>\n",
       "  <th>Date:</th>             <td>Thu, 30 Nov 2023</td> <th>  Prob (F-statistic):</th>   <td>  0.00</td>   \n",
       "</tr>\n",
       "<tr>\n",
       "  <th>Time:</th>                 <td>21:57:22</td>     <th>  Log-Likelihood:    </th> <td>-4.6103e+05</td>\n",
       "</tr>\n",
       "<tr>\n",
       "  <th>No. Observations:</th>      <td> 53940</td>      <th>  AIC:               </th>  <td>9.221e+05</td> \n",
       "</tr>\n",
       "<tr>\n",
       "  <th>Df Residuals:</th>          <td> 53936</td>      <th>  BIC:               </th>  <td>9.221e+05</td> \n",
       "</tr>\n",
       "<tr>\n",
       "  <th>Df Model:</th>              <td>     3</td>      <th>                     </th>      <td> </td>     \n",
       "</tr>\n",
       "<tr>\n",
       "  <th>Covariance Type:</th>      <td>nonrobust</td>    <th>                     </th>      <td> </td>     \n",
       "</tr>\n",
       "</table>\n",
       "<table class=\"simpletable\">\n",
       "<tr>\n",
       "       <td></td>          <th>coef</th>     <th>std err</th>      <th>t</th>      <th>P>|t|</th>  <th>[0.025</th>    <th>0.975]</th>  \n",
       "</tr>\n",
       "<tr>\n",
       "  <th>Intercept</th>   <td>-1238.9262</td> <td>   25.178</td> <td>  -49.207</td> <td> 0.000</td> <td>-1288.275</td> <td>-1189.578</td>\n",
       "</tr>\n",
       "<tr>\n",
       "  <th>carat</th>       <td> 8755.4676</td> <td>   12.780</td> <td>  685.065</td> <td> 0.000</td> <td> 8730.418</td> <td> 8780.517</td>\n",
       "</tr>\n",
       "<tr>\n",
       "  <th>color_num</th>   <td>  319.8955</td> <td>    3.333</td> <td>   95.969</td> <td> 0.000</td> <td>  313.362</td> <td>  326.429</td>\n",
       "</tr>\n",
       "<tr>\n",
       "  <th>clarity_num</th> <td> -541.9427</td> <td>    3.519</td> <td> -153.985</td> <td> 0.000</td> <td> -548.841</td> <td> -535.045</td>\n",
       "</tr>\n",
       "</table>\n",
       "<table class=\"simpletable\">\n",
       "<tr>\n",
       "  <th>Omnibus:</th>       <td>10608.097</td> <th>  Durbin-Watson:     </th>  <td>   0.929</td> \n",
       "</tr>\n",
       "<tr>\n",
       "  <th>Prob(Omnibus):</th>  <td> 0.000</td>   <th>  Jarque-Bera (JB):  </th> <td>248977.293</td>\n",
       "</tr>\n",
       "<tr>\n",
       "  <th>Skew:</th>           <td> 0.339</td>   <th>  Prob(JB):          </th>  <td>    0.00</td> \n",
       "</tr>\n",
       "<tr>\n",
       "  <th>Kurtosis:</th>       <td>13.503</td>   <th>  Cond. No.          </th>  <td>    36.8</td> \n",
       "</tr>\n",
       "</table><br/><br/>Notes:<br/>[1] Standard Errors assume that the covariance matrix of the errors is correctly specified."
      ],
      "text/latex": [
       "\\begin{center}\n",
       "\\begin{tabular}{lclc}\n",
       "\\toprule\n",
       "\\textbf{Dep. Variable:}    &      price       & \\textbf{  R-squared:         } &      0.902   \\\\\n",
       "\\textbf{Model:}            &       OLS        & \\textbf{  Adj. R-squared:    } &      0.902   \\\\\n",
       "\\textbf{Method:}           &  Least Squares   & \\textbf{  F-statistic:       } &  1.661e+05   \\\\\n",
       "\\textbf{Date:}             & Thu, 30 Nov 2023 & \\textbf{  Prob (F-statistic):} &      0.00    \\\\\n",
       "\\textbf{Time:}             &     21:57:22     & \\textbf{  Log-Likelihood:    } & -4.6103e+05  \\\\\n",
       "\\textbf{No. Observations:} &       53940      & \\textbf{  AIC:               } &  9.221e+05   \\\\\n",
       "\\textbf{Df Residuals:}     &       53936      & \\textbf{  BIC:               } &  9.221e+05   \\\\\n",
       "\\textbf{Df Model:}         &           3      & \\textbf{                     } &              \\\\\n",
       "\\textbf{Covariance Type:}  &    nonrobust     & \\textbf{                     } &              \\\\\n",
       "\\bottomrule\n",
       "\\end{tabular}\n",
       "\\begin{tabular}{lcccccc}\n",
       "                      & \\textbf{coef} & \\textbf{std err} & \\textbf{t} & \\textbf{P$> |$t$|$} & \\textbf{[0.025} & \\textbf{0.975]}  \\\\\n",
       "\\midrule\n",
       "\\textbf{Intercept}    &   -1238.9262  &       25.178     &   -49.207  &         0.000        &    -1288.275    &    -1189.578     \\\\\n",
       "\\textbf{carat}        &    8755.4676  &       12.780     &   685.065  &         0.000        &     8730.418    &     8780.517     \\\\\n",
       "\\textbf{color\\_num}   &     319.8955  &        3.333     &    95.969  &         0.000        &      313.362    &      326.429     \\\\\n",
       "\\textbf{clarity\\_num} &    -541.9427  &        3.519     &  -153.985  &         0.000        &     -548.841    &     -535.045     \\\\\n",
       "\\bottomrule\n",
       "\\end{tabular}\n",
       "\\begin{tabular}{lclc}\n",
       "\\textbf{Omnibus:}       & 10608.097 & \\textbf{  Durbin-Watson:     } &     0.929   \\\\\n",
       "\\textbf{Prob(Omnibus):} &    0.000  & \\textbf{  Jarque-Bera (JB):  } & 248977.293  \\\\\n",
       "\\textbf{Skew:}          &    0.339  & \\textbf{  Prob(JB):          } &      0.00   \\\\\n",
       "\\textbf{Kurtosis:}      &   13.503  & \\textbf{  Cond. No.          } &      36.8   \\\\\n",
       "\\bottomrule\n",
       "\\end{tabular}\n",
       "%\\caption{OLS Regression Results}\n",
       "\\end{center}\n",
       "\n",
       "Notes: \\newline\n",
       " [1] Standard Errors assume that the covariance matrix of the errors is correctly specified."
      ],
      "text/plain": [
       "<class 'statsmodels.iolib.summary.Summary'>\n",
       "\"\"\"\n",
       "                            OLS Regression Results                            \n",
       "==============================================================================\n",
       "Dep. Variable:                  price   R-squared:                       0.902\n",
       "Model:                            OLS   Adj. R-squared:                  0.902\n",
       "Method:                 Least Squares   F-statistic:                 1.661e+05\n",
       "Date:                Thu, 30 Nov 2023   Prob (F-statistic):               0.00\n",
       "Time:                        21:57:22   Log-Likelihood:            -4.6103e+05\n",
       "No. Observations:               53940   AIC:                         9.221e+05\n",
       "Df Residuals:                   53936   BIC:                         9.221e+05\n",
       "Df Model:                           3                                         \n",
       "Covariance Type:            nonrobust                                         \n",
       "===============================================================================\n",
       "                  coef    std err          t      P>|t|      [0.025      0.975]\n",
       "-------------------------------------------------------------------------------\n",
       "Intercept   -1238.9262     25.178    -49.207      0.000   -1288.275   -1189.578\n",
       "carat        8755.4676     12.780    685.065      0.000    8730.418    8780.517\n",
       "color_num     319.8955      3.333     95.969      0.000     313.362     326.429\n",
       "clarity_num  -541.9427      3.519   -153.985      0.000    -548.841    -535.045\n",
       "==============================================================================\n",
       "Omnibus:                    10608.097   Durbin-Watson:                   0.929\n",
       "Prob(Omnibus):                  0.000   Jarque-Bera (JB):           248977.293\n",
       "Skew:                           0.339   Prob(JB):                         0.00\n",
       "Kurtosis:                      13.503   Cond. No.                         36.8\n",
       "==============================================================================\n",
       "\n",
       "Notes:\n",
       "[1] Standard Errors assume that the covariance matrix of the errors is correctly specified.\n",
       "\"\"\""
      ]
     },
     "execution_count": 39,
     "metadata": {},
     "output_type": "execute_result"
    }
   ],
   "source": [
    "import statsmodels.formula.api as smf\n",
    "\n",
    "fit = smf.ols('price ~ carat+color_num+clarity_num', data=df).fit()\n",
    "fit.summary()"
   ]
  },
  {
   "cell_type": "code",
   "execution_count": 43,
   "id": "72427d1c",
   "metadata": {},
   "outputs": [
    {
     "name": "stdout",
     "output_type": "stream",
     "text": [
      "lm: 7698.757909986954\n",
      "lm pvalue: 0.0\n",
      "f-stat: 2993.28901982312\n",
      "f-stat pvalue: 0.0\n"
     ]
    }
   ],
   "source": [
    "import statsmodels.stats.api as sms\n",
    "\n",
    "#perform Bresuch-Pagan test\n",
    "lm, lm_pvalue, f_value, f_pvalue = sms.het_breuschpagan(fit.resid, fit.model.exog)\n",
    "print(\"lm:\", lm)\n",
    "print(\"lm pvalue:\", lm_pvalue)\n",
    "print(\"f-stat:\", f_value)\n",
    "print(\"f-stat pvalue:\", f_pvalue)"
   ]
  },
  {
   "cell_type": "markdown",
   "id": "e0a5ca89",
   "metadata": {},
   "source": [
    "Полученные из теста Бройша-Пагана значения p-value равны 0.000, а значит точно меньше уровня значимости $\\alpha=0.05$, то есть мы отвергаем нулевую гипотезу, а именно -- гомоскедастичности нет. То есть, в модели присутствует гетероскедастичность."
   ]
  },
  {
   "cell_type": "code",
   "execution_count": 44,
   "id": "4e650125",
   "metadata": {},
   "outputs": [
    {
     "name": "stdout",
     "output_type": "stream",
     "text": [
      "lm: 21164.32005517713\n",
      "lm pvalue: 0.0\n",
      "f-stat: 3869.372326260101\n",
      "f-stat pvalue: 0.0\n"
     ]
    }
   ],
   "source": [
    "#perform White test\n",
    "lm, lm_pvalue, f_value, f_pvalue = sms.het_white(fit.resid, fit.model.exog)\n",
    "print(\"lm:\", lm)\n",
    "print(\"lm pvalue:\", lm_pvalue)\n",
    "print(\"f-stat:\", f_value)\n",
    "print(\"f-stat pvalue:\", f_pvalue)"
   ]
  },
  {
   "cell_type": "markdown",
   "id": "acae6c2d",
   "metadata": {},
   "source": [
    "Полученные из теста Уайта значения p-value равны 0.000, а значит точно меньше уровня значимости $\\alpha=0.05$, то есть мы отвергаем нулевую гипотезу, а именно -- гомоскедастичности нет. То есть, в модели присутствует гетероскедастичность."
   ]
  },
  {
   "cell_type": "markdown",
   "id": "23b38de4",
   "metadata": {},
   "source": [
    "Таким образом, оба теста указывают на гетероскедастичность, а значит нам нужно провести поправку Уайта:"
   ]
  },
  {
   "cell_type": "code",
   "execution_count": 54,
   "id": "80dcbca0",
   "metadata": {},
   "outputs": [
    {
     "data": {
      "text/html": [
       "<table class=\"simpletable\">\n",
       "<caption>OLS Regression Results</caption>\n",
       "<tr>\n",
       "  <th>Dep. Variable:</th>          <td>price</td>      <th>  R-squared:         </th>  <td>   0.902</td>  \n",
       "</tr>\n",
       "<tr>\n",
       "  <th>Model:</th>                   <td>OLS</td>       <th>  Adj. R-squared:    </th>  <td>   0.902</td>  \n",
       "</tr>\n",
       "<tr>\n",
       "  <th>Method:</th>             <td>Least Squares</td>  <th>  F-statistic:       </th>  <td>3.740e+04</td> \n",
       "</tr>\n",
       "<tr>\n",
       "  <th>Date:</th>             <td>Thu, 30 Nov 2023</td> <th>  Prob (F-statistic):</th>   <td>  0.00</td>   \n",
       "</tr>\n",
       "<tr>\n",
       "  <th>Time:</th>                 <td>22:32:15</td>     <th>  Log-Likelihood:    </th> <td>-4.6103e+05</td>\n",
       "</tr>\n",
       "<tr>\n",
       "  <th>No. Observations:</th>      <td> 53940</td>      <th>  AIC:               </th>  <td>9.221e+05</td> \n",
       "</tr>\n",
       "<tr>\n",
       "  <th>Df Residuals:</th>          <td> 53936</td>      <th>  BIC:               </th>  <td>9.221e+05</td> \n",
       "</tr>\n",
       "<tr>\n",
       "  <th>Df Model:</th>              <td>     3</td>      <th>                     </th>      <td> </td>     \n",
       "</tr>\n",
       "<tr>\n",
       "  <th>Covariance Type:</th>         <td>HC1</td>       <th>                     </th>      <td> </td>     \n",
       "</tr>\n",
       "</table>\n",
       "<table class=\"simpletable\">\n",
       "<tr>\n",
       "       <td></td>          <th>coef</th>     <th>std err</th>      <th>z</th>      <th>P>|z|</th>  <th>[0.025</th>    <th>0.975]</th>  \n",
       "</tr>\n",
       "<tr>\n",
       "  <th>Intercept</th>   <td>-1238.9262</td> <td>   27.765</td> <td>  -44.621</td> <td> 0.000</td> <td>-1293.345</td> <td>-1184.507</td>\n",
       "</tr>\n",
       "<tr>\n",
       "  <th>carat</th>       <td> 8755.4676</td> <td>   27.258</td> <td>  321.206</td> <td> 0.000</td> <td> 8702.043</td> <td> 8808.893</td>\n",
       "</tr>\n",
       "<tr>\n",
       "  <th>color_num</th>   <td>  319.8955</td> <td>    3.843</td> <td>   83.234</td> <td> 0.000</td> <td>  312.363</td> <td>  327.428</td>\n",
       "</tr>\n",
       "<tr>\n",
       "  <th>clarity_num</th> <td> -541.9427</td> <td>    4.466</td> <td> -121.349</td> <td> 0.000</td> <td> -550.696</td> <td> -533.190</td>\n",
       "</tr>\n",
       "</table>\n",
       "<table class=\"simpletable\">\n",
       "<tr>\n",
       "  <th>Omnibus:</th>       <td>10608.097</td> <th>  Durbin-Watson:     </th>  <td>   0.929</td> \n",
       "</tr>\n",
       "<tr>\n",
       "  <th>Prob(Omnibus):</th>  <td> 0.000</td>   <th>  Jarque-Bera (JB):  </th> <td>248977.293</td>\n",
       "</tr>\n",
       "<tr>\n",
       "  <th>Skew:</th>           <td> 0.339</td>   <th>  Prob(JB):          </th>  <td>    0.00</td> \n",
       "</tr>\n",
       "<tr>\n",
       "  <th>Kurtosis:</th>       <td>13.503</td>   <th>  Cond. No.          </th>  <td>    36.8</td> \n",
       "</tr>\n",
       "</table><br/><br/>Notes:<br/>[1] Standard Errors are heteroscedasticity robust (HC1)"
      ],
      "text/latex": [
       "\\begin{center}\n",
       "\\begin{tabular}{lclc}\n",
       "\\toprule\n",
       "\\textbf{Dep. Variable:}    &      price       & \\textbf{  R-squared:         } &      0.902   \\\\\n",
       "\\textbf{Model:}            &       OLS        & \\textbf{  Adj. R-squared:    } &      0.902   \\\\\n",
       "\\textbf{Method:}           &  Least Squares   & \\textbf{  F-statistic:       } &  3.740e+04   \\\\\n",
       "\\textbf{Date:}             & Thu, 30 Nov 2023 & \\textbf{  Prob (F-statistic):} &      0.00    \\\\\n",
       "\\textbf{Time:}             &     22:32:15     & \\textbf{  Log-Likelihood:    } & -4.6103e+05  \\\\\n",
       "\\textbf{No. Observations:} &       53940      & \\textbf{  AIC:               } &  9.221e+05   \\\\\n",
       "\\textbf{Df Residuals:}     &       53936      & \\textbf{  BIC:               } &  9.221e+05   \\\\\n",
       "\\textbf{Df Model:}         &           3      & \\textbf{                     } &              \\\\\n",
       "\\textbf{Covariance Type:}  &       HC1        & \\textbf{                     } &              \\\\\n",
       "\\bottomrule\n",
       "\\end{tabular}\n",
       "\\begin{tabular}{lcccccc}\n",
       "                      & \\textbf{coef} & \\textbf{std err} & \\textbf{z} & \\textbf{P$> |$z$|$} & \\textbf{[0.025} & \\textbf{0.975]}  \\\\\n",
       "\\midrule\n",
       "\\textbf{Intercept}    &   -1238.9262  &       27.765     &   -44.621  &         0.000        &    -1293.345    &    -1184.507     \\\\\n",
       "\\textbf{carat}        &    8755.4676  &       27.258     &   321.206  &         0.000        &     8702.043    &     8808.893     \\\\\n",
       "\\textbf{color\\_num}   &     319.8955  &        3.843     &    83.234  &         0.000        &      312.363    &      327.428     \\\\\n",
       "\\textbf{clarity\\_num} &    -541.9427  &        4.466     &  -121.349  &         0.000        &     -550.696    &     -533.190     \\\\\n",
       "\\bottomrule\n",
       "\\end{tabular}\n",
       "\\begin{tabular}{lclc}\n",
       "\\textbf{Omnibus:}       & 10608.097 & \\textbf{  Durbin-Watson:     } &     0.929   \\\\\n",
       "\\textbf{Prob(Omnibus):} &    0.000  & \\textbf{  Jarque-Bera (JB):  } & 248977.293  \\\\\n",
       "\\textbf{Skew:}          &    0.339  & \\textbf{  Prob(JB):          } &      0.00   \\\\\n",
       "\\textbf{Kurtosis:}      &   13.503  & \\textbf{  Cond. No.          } &      36.8   \\\\\n",
       "\\bottomrule\n",
       "\\end{tabular}\n",
       "%\\caption{OLS Regression Results}\n",
       "\\end{center}\n",
       "\n",
       "Notes: \\newline\n",
       " [1] Standard Errors are heteroscedasticity robust (HC1)"
      ],
      "text/plain": [
       "<class 'statsmodels.iolib.summary.Summary'>\n",
       "\"\"\"\n",
       "                            OLS Regression Results                            \n",
       "==============================================================================\n",
       "Dep. Variable:                  price   R-squared:                       0.902\n",
       "Model:                            OLS   Adj. R-squared:                  0.902\n",
       "Method:                 Least Squares   F-statistic:                 3.740e+04\n",
       "Date:                Thu, 30 Nov 2023   Prob (F-statistic):               0.00\n",
       "Time:                        22:32:15   Log-Likelihood:            -4.6103e+05\n",
       "No. Observations:               53940   AIC:                         9.221e+05\n",
       "Df Residuals:                   53936   BIC:                         9.221e+05\n",
       "Df Model:                           3                                         \n",
       "Covariance Type:                  HC1                                         \n",
       "===============================================================================\n",
       "                  coef    std err          z      P>|z|      [0.025      0.975]\n",
       "-------------------------------------------------------------------------------\n",
       "Intercept   -1238.9262     27.765    -44.621      0.000   -1293.345   -1184.507\n",
       "carat        8755.4676     27.258    321.206      0.000    8702.043    8808.893\n",
       "color_num     319.8955      3.843     83.234      0.000     312.363     327.428\n",
       "clarity_num  -541.9427      4.466   -121.349      0.000    -550.696    -533.190\n",
       "==============================================================================\n",
       "Omnibus:                    10608.097   Durbin-Watson:                   0.929\n",
       "Prob(Omnibus):                  0.000   Jarque-Bera (JB):           248977.293\n",
       "Skew:                           0.339   Prob(JB):                         0.00\n",
       "Kurtosis:                      13.503   Cond. No.                         36.8\n",
       "==============================================================================\n",
       "\n",
       "Notes:\n",
       "[1] Standard Errors are heteroscedasticity robust (HC1)\n",
       "\"\"\""
      ]
     },
     "execution_count": 54,
     "metadata": {},
     "output_type": "execute_result"
    }
   ],
   "source": [
    "fit = smf.ols('price ~ carat+color_num+clarity_num', data=df).fit(cov_type = \"HC1\")\n",
    "fit.summary()"
   ]
  },
  {
   "cell_type": "markdown",
   "id": "86c65daa",
   "metadata": {},
   "source": [
    "Таким образом, поправки Уайта на результаты модели никак видимо не повлияли."
   ]
  },
  {
   "cell_type": "markdown",
   "id": "a0061cbb",
   "metadata": {},
   "source": [
    "## 4. Построить модель линейной регрессии с регуляризацией Ридж и применением кросс-валидации, сравнить полученную модель с лучшей моделью из пункта 3. Построить модель линейной регрессии с регуляризацией Лассо применением кросс-валидации, сравнить полученную модель с лучшей моделью из пункта 3 и моделью c регуляризацией Ридж. (1 балла). Сделать обоснованный выбор лучшей модели с регуляризацией, провести анализ ошибок этой модели (1 балл)."
   ]
  },
  {
   "cell_type": "code",
   "execution_count": 45,
   "id": "af27ec8d",
   "metadata": {},
   "outputs": [],
   "source": [
    "from sklearn.model_selection import train_test_split\n",
    "\n",
    "X_train, X_test, y_train, y_test = train_test_split(X, y, test_size=0.3)"
   ]
  },
  {
   "cell_type": "code",
   "execution_count": 46,
   "id": "a3c80c24",
   "metadata": {},
   "outputs": [],
   "source": [
    "from sklearn.linear_model import RidgeCV, LassoCV\n",
    "from sklearn.linear_model import LinearRegression\n",
    "from sklearn.metrics import mean_squared_error, mean_absolute_error, r2_score\n",
    "\n",
    "model_ridge = RidgeCV()\n",
    "model_lasso = LassoCV()\n",
    "model_linreg = LinearRegression()\n",
    "\n",
    "mse = lambda a, b: mean_squared_error(a, b)\n",
    "mae = lambda a, b: mean_absolute_error(a, b)\n",
    "r2 = lambda a, b: r2_score(a, b)"
   ]
  },
  {
   "cell_type": "code",
   "execution_count": 47,
   "id": "90d103e3",
   "metadata": {},
   "outputs": [
    {
     "name": "stdout",
     "output_type": "stream",
     "text": [
      "MSE for RidgeCV: 1564304.3784890892\n",
      "MAE for RidgeCV: 867.3780783404313\n",
      "R2 for RidgeCV: 0.8935578602148996\n"
     ]
    }
   ],
   "source": [
    "model = model_ridge.fit(X_train, y_train)\n",
    "\n",
    "y_pred_ridge = model.predict(X_test)\n",
    "\n",
    "print(\"MSE for RidgeCV:\", mse(y_pred_ridge, y_test))\n",
    "print(\"MAE for RidgeCV:\", mae(y_pred_ridge, y_test))\n",
    "print(\"R2 for RidgeCV:\", r2(y_pred_ridge, y_test))"
   ]
  },
  {
   "cell_type": "code",
   "execution_count": 49,
   "id": "d522efc3",
   "metadata": {},
   "outputs": [
    {
     "name": "stdout",
     "output_type": "stream",
     "text": [
      "MSE for LassoCV: 1564360.285530063\n",
      "MAE for LassoCV: 866.6914560125808\n",
      "R2 for LassoCV: 0.8933057317069915\n"
     ]
    }
   ],
   "source": [
    "model = model_lasso.fit(X_train, y_train)\n",
    "\n",
    "y_pred_lasso = model.predict(X_test)\n",
    "\n",
    "print(\"MSE for LassoCV:\", mse(y_pred_lasso, y_test))\n",
    "print(\"MAE for LassoCV:\", mae(y_pred_lasso, y_test))\n",
    "print(\"R2 for LassoCV:\", r2(y_pred_lasso, y_test))"
   ]
  },
  {
   "cell_type": "code",
   "execution_count": 55,
   "id": "462f6b5a",
   "metadata": {},
   "outputs": [
    {
     "name": "stdout",
     "output_type": "stream",
     "text": [
      "MSE for LinReg: 1564305.1313083388\n",
      "MAE for LinReg: 867.3845916464469\n",
      "R2 for LinReg: 0.893560852662049\n"
     ]
    }
   ],
   "source": [
    "#модель из прошлого пункта\n",
    "model = sm.OLS(y_train, X_train)\n",
    "res = model.fit(cov_type = \"HC1\")\n",
    "\n",
    "y_pred = res.predict(X_test)\n",
    "\n",
    "print(\"MSE for LinReg:\", mse(y_pred, y_test))\n",
    "print(\"MAE for LinReg:\", mae(y_pred, y_test))\n",
    "print(\"R2 for LinReg:\", r2(y_pred, y_test))"
   ]
  },
  {
   "cell_type": "markdown",
   "id": "b19ad914",
   "metadata": {},
   "source": [
    "Методы регуляризации уже лучше сравнивать по значениям метрики MSE (или MAE). Поэтому три модели показывают невысокий результат, но RidgeCV показывает наилучший результат, хотя и не намного."
   ]
  },
  {
   "cell_type": "markdown",
   "id": "fa8df850",
   "metadata": {},
   "source": [
    "# 5. Выбрать наиболее удачную регрессионную модель. Аргументировать свой выбор, привести подробную интерпретацию модели. (2 балла)"
   ]
  },
  {
   "cell_type": "markdown",
   "id": "174d9c86",
   "metadata": {},
   "source": [
    "Таким образом, мы остановились на следующем наборе переменных:\n",
    "\n",
    "$$price_i = \\beta_0 + \\beta_1 * carat_i + \\beta_2 * \\text{color_num}_i + \\beta_3 * \\text{clarity_num}_i + \\varepsilon_i$$\n",
    "\n",
    "Для расчета использовали модель линейной регрессии с регуляризацией Ридж и применением кросс-валидации."
   ]
  },
  {
   "cell_type": "markdown",
   "id": "85d12d62",
   "metadata": {},
   "source": [
    "При выборе набора переменных мы в основном ориентировались на метрику $R^2$, которая показывает полноту объяснения целевой переменной выбранными данными. При выборе же регуляризации для модели линейной регресии мы в основном опирались на метрику MSE. "
   ]
  },
  {
   "cell_type": "markdown",
   "id": "2811647f",
   "metadata": {},
   "source": [
    "Регуляризация особо не влияет на наш результат."
   ]
  },
  {
   "cell_type": "markdown",
   "id": "35a51fd9",
   "metadata": {},
   "source": [
    "Основное влияние на цену оказывает именно вес бриллианта (то есть, переменная carat), а качество камня лишь помогает нам немного увеличить полноту модели."
   ]
  }
 ],
 "metadata": {
  "kernelspec": {
   "display_name": "Python 3 (ipykernel)",
   "language": "python",
   "name": "python3"
  },
  "language_info": {
   "codemirror_mode": {
    "name": "ipython",
    "version": 3
   },
   "file_extension": ".py",
   "mimetype": "text/x-python",
   "name": "python",
   "nbconvert_exporter": "python",
   "pygments_lexer": "ipython3",
   "version": "3.11.6"
  }
 },
 "nbformat": 4,
 "nbformat_minor": 5
}
